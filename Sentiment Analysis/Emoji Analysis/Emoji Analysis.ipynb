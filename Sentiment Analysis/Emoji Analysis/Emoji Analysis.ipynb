{
 "cells": [
  {
   "cell_type": "markdown",
   "metadata": {},
   "source": [
    "### Import Libraries"
   ]
  },
  {
   "cell_type": "code",
   "execution_count": 282,
   "metadata": {},
   "outputs": [],
   "source": [
    "# data wrangling\n",
    "import pandas as pd\n",
    "import numpy as np\n",
    "import tweepy, string, emoji"
   ]
  },
  {
   "cell_type": "code",
   "execution_count": 283,
   "metadata": {},
   "outputs": [],
   "source": [
    "# data exploration\n",
    "from textblob import TextBlob\n",
    "from wordcloud import WordCloud"
   ]
  },
  {
   "cell_type": "code",
   "execution_count": 284,
   "metadata": {},
   "outputs": [],
   "source": [
    "# data cleaning\n",
    "import nltk\n",
    "from nltk.corpus import stopwords"
   ]
  },
  {
   "cell_type": "markdown",
   "metadata": {},
   "source": [
    "### 1. Data Acquisition"
   ]
  },
  {
   "cell_type": "code",
   "execution_count": 285,
   "metadata": {},
   "outputs": [],
   "source": [
    "# Twitter App access keys for the Twitter API\n",
    "\n",
    "# Consume:\n",
    "CONSUMER_KEY    = '42G7994DpZBgeoA3G0w2ihopW'\n",
    "CONSUMER_SECRET = '0I0osePwJmyoweY1YmxiAwAf6zUQ2ewmmmRA59BM403XeXEcA2'\n",
    "\n",
    "# Access:\n",
    "ACCESS_TOKEN  = '1210220457363791872-Pq9hLTumRpww1R9biaJjGmtcuswHIT'\n",
    "ACCESS_SECRET = '6zhJzN3c2FYVl8PPN5vRT9UnRWFEDdVlK3iUK3pbBWXgR'"
   ]
  },
  {
   "cell_type": "code",
   "execution_count": 286,
   "metadata": {},
   "outputs": [],
   "source": [
    "def twitter_setup():\n",
    "    \n",
    "    # Authentication and access using user-specific keys\n",
    "    authentication = tweepy.OAuthHandler(CONSUMER_KEY, CONSUMER_SECRET)\n",
    "    authentication.set_access_token(ACCESS_TOKEN, ACCESS_SECRET)\n",
    "    \n",
    "    # Return API with authentication\n",
    "    api = tweepy.API(authentication)\n",
    "    return api"
   ]
  },
  {
   "cell_type": "code",
   "execution_count": 287,
   "metadata": {
    "scrolled": true
   },
   "outputs": [
    {
     "name": "stdout",
     "output_type": "stream",
     "text": [
      "...399 tweets downloaded so far\n",
      "...596 tweets downloaded so far\n",
      "...794 tweets downloaded so far\n",
      "...992 tweets downloaded so far\n",
      "...1189 tweets downloaded so far\n",
      "...1388 tweets downloaded so far\n",
      "...1587 tweets downloaded so far\n",
      "...1787 tweets downloaded so far\n",
      "...1986 tweets downloaded so far\n",
      "...2182 tweets downloaded so far\n",
      "...2379 tweets downloaded so far\n",
      "...2579 tweets downloaded so far\n",
      "...2775 tweets downloaded so far\n",
      "...2967 tweets downloaded so far\n",
      "...3161 tweets downloaded so far\n",
      "...3199 tweets downloaded so far\n",
      "...3199 tweets downloaded so far\n",
      "Number of tweets extracted: 3199.\n",
      "\n",
      "Most recent 5 tweets:\n",
      "\n",
      "No matter what kind of movie you want to watch tonight, Amy Adams has you covered: \n",
      "\n",
      "Hillbilly Elegy\n",
      "Julie &amp; Julia… https://t.co/4tZteUabvk\n",
      "\n",
      "RT @Netflix_CA: appreciation post for the flawless Catch Me If You Can opening credits https://t.co/04BQd97nii\n",
      "\n",
      "@manuelaacolmee_ ❤️\n",
      "\n",
      "Nicolas Cage screaming at an imaginary child named \"Fucklyn\" is truly something you must witness \n",
      "\n",
      "(📺: History of S… https://t.co/i1sCHjki6D\n",
      "\n",
      "RT @Mike_Eagle: catch me on what my family is calling 'the cussing show'. History of Swear Words on @netflix\n",
      "\n",
      "it comes on whenever you want…\n",
      "\n"
     ]
    }
   ],
   "source": [
    "# Create object to get tweets\n",
    "get_tweets = twitter_setup()\n",
    "\n",
    "# initialization to hold list of tweets\n",
    "tweets = []\n",
    "\n",
    "# Initial request : get most recent 200 tweets and print\n",
    "# API.user_timeline : Returns the  most recent statuses posted from the authenticating user or the user specified. \n",
    "posts = get_tweets.user_timeline(screen_name = \"netflix\", count = 200)\n",
    "\n",
    "# Method that takes an iterable such as list, tuple, string etc\n",
    "# save the tweets \n",
    "tweets.extend(posts)\n",
    "\n",
    "# How to get more than 200 tweets #\n",
    "\n",
    "# Save the id of the oldest tweet, less one\n",
    "oldest = tweets[-1].id - 1\n",
    "\n",
    "# Keep getting tweets until there are no more- or in this case, until we reach the limit\n",
    "# Return the length number of an object\n",
    "while len(posts) > 0:\n",
    "\n",
    "    # All subsequent requests use the max_id parameter, to prevent getting duplicates\n",
    "    # max_id :  Returns only statuses with an ID less than (that is, older than) or equal to the specified ID.\n",
    "    posts = get_tweets.user_timeline(screen_name = \"netflix\", count = 200, max_id = oldest)\n",
    "    \n",
    "    # Save most recent\n",
    "    tweets.extend(posts)\n",
    "    \n",
    "    # Update id of the oldest tweet, less one\n",
    "    oldest = tweets[-1].id - 1\n",
    "    \n",
    "    print(\"...%s tweets downloaded so far\" % (len(tweets)))\n",
    "\n",
    "print(\"Number of tweets extracted: {}.\\n\".format(len(tweets)))\n",
    "\n",
    "# Print most recent just to check\n",
    "print(\"Most recent 5 tweets:\\n\")\n",
    "for tweet in tweets[:5]:\n",
    "    print(tweet.text)\n",
    "    print()\n"
   ]
  },
  {
   "cell_type": "code",
   "execution_count": 288,
   "metadata": {},
   "outputs": [],
   "source": [
    "df = pd.DataFrame(data = [tweet.text for tweet in tweets], columns = [\"tweet\"])"
   ]
  },
  {
   "cell_type": "code",
   "execution_count": 289,
   "metadata": {},
   "outputs": [
    {
     "data": {
      "text/html": [
       "<div>\n",
       "<style scoped>\n",
       "    .dataframe tbody tr th:only-of-type {\n",
       "        vertical-align: middle;\n",
       "    }\n",
       "\n",
       "    .dataframe tbody tr th {\n",
       "        vertical-align: top;\n",
       "    }\n",
       "\n",
       "    .dataframe thead th {\n",
       "        text-align: right;\n",
       "    }\n",
       "</style>\n",
       "<table border=\"1\" class=\"dataframe\">\n",
       "  <thead>\n",
       "    <tr style=\"text-align: right;\">\n",
       "      <th></th>\n",
       "      <th>tweet</th>\n",
       "    </tr>\n",
       "  </thead>\n",
       "  <tbody>\n",
       "    <tr>\n",
       "      <th>0</th>\n",
       "      <td>No matter what kind of movie you want to watch...</td>\n",
       "    </tr>\n",
       "    <tr>\n",
       "      <th>1</th>\n",
       "      <td>RT @Netflix_CA: appreciation post for the flaw...</td>\n",
       "    </tr>\n",
       "    <tr>\n",
       "      <th>2</th>\n",
       "      <td>@manuelaacolmee_ ❤️</td>\n",
       "    </tr>\n",
       "    <tr>\n",
       "      <th>3</th>\n",
       "      <td>Nicolas Cage screaming at an imaginary child n...</td>\n",
       "    </tr>\n",
       "    <tr>\n",
       "      <th>4</th>\n",
       "      <td>RT @Mike_Eagle: catch me on what my family is ...</td>\n",
       "    </tr>\n",
       "    <tr>\n",
       "      <th>5</th>\n",
       "      <td>I hear we’re getting drivers licenses, fellow ...</td>\n",
       "    </tr>\n",
       "    <tr>\n",
       "      <th>6</th>\n",
       "      <td>@lanacondor already 😭😭</td>\n",
       "    </tr>\n",
       "    <tr>\n",
       "      <th>7</th>\n",
       "      <td>RT @lanacondor: THE TO ALL THE BOYS 3 TRAILER ...</td>\n",
       "    </tr>\n",
       "    <tr>\n",
       "      <th>8</th>\n",
       "      <td>@abigailbarloww you are blowing all of our min...</td>\n",
       "    </tr>\n",
       "    <tr>\n",
       "      <th>9</th>\n",
       "      <td>Absolutely blown away by the Bridgerton musica...</td>\n",
       "    </tr>\n",
       "  </tbody>\n",
       "</table>\n",
       "</div>"
      ],
      "text/plain": [
       "                                               tweet\n",
       "0  No matter what kind of movie you want to watch...\n",
       "1  RT @Netflix_CA: appreciation post for the flaw...\n",
       "2                                @manuelaacolmee_ ❤️\n",
       "3  Nicolas Cage screaming at an imaginary child n...\n",
       "4  RT @Mike_Eagle: catch me on what my family is ...\n",
       "5  I hear we’re getting drivers licenses, fellow ...\n",
       "6                             @lanacondor already 😭😭\n",
       "7  RT @lanacondor: THE TO ALL THE BOYS 3 TRAILER ...\n",
       "8  @abigailbarloww you are blowing all of our min...\n",
       "9  Absolutely blown away by the Bridgerton musica..."
      ]
     },
     "execution_count": 289,
     "metadata": {},
     "output_type": "execute_result"
    }
   ],
   "source": [
    "df.head(10)"
   ]
  },
  {
   "cell_type": "markdown",
   "metadata": {},
   "source": [
    "### 2. Data Cleaning and Pre-processing"
   ]
  },
  {
   "cell_type": "markdown",
   "metadata": {},
   "source": [
    "#### 2.1 Remove Stopwords and Punctuations"
   ]
  },
  {
   "cell_type": "code",
   "execution_count": 290,
   "metadata": {
    "scrolled": true
   },
   "outputs": [
    {
     "name": "stderr",
     "output_type": "stream",
     "text": [
      "[nltk_data] Downloading package stopwords to\n",
      "[nltk_data]     C:\\Users\\ACER\\AppData\\Roaming\\nltk_data...\n",
      "[nltk_data]   Package stopwords is already up-to-date!\n",
      "[nltk_data] Downloading package punkt to\n",
      "[nltk_data]     C:\\Users\\ACER\\AppData\\Roaming\\nltk_data...\n",
      "[nltk_data]   Package punkt is already up-to-date!\n",
      "[nltk_data] Downloading package wordnet to\n",
      "[nltk_data]     C:\\Users\\ACER\\AppData\\Roaming\\nltk_data...\n",
      "[nltk_data]   Package wordnet is already up-to-date!\n"
     ]
    },
    {
     "data": {
      "text/plain": [
       "True"
      ]
     },
     "execution_count": 290,
     "metadata": {},
     "output_type": "execute_result"
    }
   ],
   "source": [
    "nltk.download('stopwords')\n",
    "nltk.download('punkt')\n",
    "nltk.download('wordnet')"
   ]
  },
  {
   "cell_type": "code",
   "execution_count": 291,
   "metadata": {},
   "outputs": [],
   "source": [
    "from nltk.corpus import stopwords"
   ]
  },
  {
   "cell_type": "code",
   "execution_count": 292,
   "metadata": {},
   "outputs": [],
   "source": [
    "stopwords = stopwords.words(\"english\")"
   ]
  },
  {
   "cell_type": "code",
   "execution_count": 293,
   "metadata": {},
   "outputs": [],
   "source": [
    "stopwords += list(string.punctuation)"
   ]
  },
  {
   "cell_type": "code",
   "execution_count": 294,
   "metadata": {},
   "outputs": [],
   "source": [
    "alph = ['a','b','c','d','e','f','g','h','i','j','k','l','m','n','o','p','q','r','s','t','u','v','w','x','y','z']\n",
    "stopwords += alph"
   ]
  },
  {
   "cell_type": "code",
   "execution_count": 295,
   "metadata": {},
   "outputs": [],
   "source": [
    "def preprocessing(posts):\n",
    "    posts = str(posts).lower()\n",
    "    posts = re.sub(r\"@[A-Za-z0-9_]+\", \"\", posts) #r- represent raw string\n",
    "    posts = re.sub(r\":\", \"\", posts) #@username:, \"...:\"\n",
    "    posts = re.sub(r\"rt[\\s]\", \"\", posts)\n",
    "    posts = re.sub(r\"https?\\/\\/\\S+\", \"\", posts)\n",
    "    posts = posts.replace(\"\\n\", \"\")\n",
    "    posts = posts.replace('\"', \"\")\n",
    "    posts = posts.replace('', \"\")\n",
    "    #posts = \" \".join([item for item in str(posts).split() if item not in stopwords])- high memory\n",
    "    tokens = nltk.word_tokenize(posts)\n",
    "    posts = [token.lower() for token in tokens if token.lower() not in stopwords]\n",
    "    return posts"
   ]
  },
  {
   "cell_type": "code",
   "execution_count": 296,
   "metadata": {},
   "outputs": [],
   "source": [
    "df[\"tweet\"] = df[\"tweet\"].apply(preprocessing)"
   ]
  },
  {
   "cell_type": "markdown",
   "metadata": {},
   "source": [
    "Reverse tokenization in order to extract more than one emojis in a sentence."
   ]
  },
  {
   "cell_type": "code",
   "execution_count": 297,
   "metadata": {},
   "outputs": [],
   "source": [
    "from nltk.tokenize.treebank import TreebankWordDetokenizer"
   ]
  },
  {
   "cell_type": "code",
   "execution_count": 298,
   "metadata": {},
   "outputs": [],
   "source": [
    "def detokenized(posts):\n",
    "    posts = TreebankWordDetokenizer().detokenize(posts)\n",
    "    return posts"
   ]
  },
  {
   "cell_type": "code",
   "execution_count": 299,
   "metadata": {},
   "outputs": [],
   "source": [
    "df[\"tweet\"] = df[\"tweet\"].apply(detokenized)"
   ]
  },
  {
   "cell_type": "code",
   "execution_count": 300,
   "metadata": {
    "scrolled": false
   },
   "outputs": [
    {
     "data": {
      "text/html": [
       "<div>\n",
       "<style scoped>\n",
       "    .dataframe tbody tr th:only-of-type {\n",
       "        vertical-align: middle;\n",
       "    }\n",
       "\n",
       "    .dataframe tbody tr th {\n",
       "        vertical-align: top;\n",
       "    }\n",
       "\n",
       "    .dataframe thead th {\n",
       "        text-align: right;\n",
       "    }\n",
       "</style>\n",
       "<table border=\"1\" class=\"dataframe\">\n",
       "  <thead>\n",
       "    <tr style=\"text-align: right;\">\n",
       "      <th></th>\n",
       "      <th>tweet</th>\n",
       "    </tr>\n",
       "  </thead>\n",
       "  <tbody>\n",
       "    <tr>\n",
       "      <th>0</th>\n",
       "      <td>matter kind movie want watch tonight amy adams...</td>\n",
       "    </tr>\n",
       "    <tr>\n",
       "      <th>1</th>\n",
       "      <td>appreciation post flawless catch opening credits</td>\n",
       "    </tr>\n",
       "    <tr>\n",
       "      <th>2</th>\n",
       "      <td>❤️</td>\n",
       "    </tr>\n",
       "    <tr>\n",
       "      <th>3</th>\n",
       "      <td>nicolas cage screaming imaginary child named f...</td>\n",
       "    </tr>\n",
       "    <tr>\n",
       "      <th>4</th>\n",
       "      <td>catch family calling 'the cussing show history...</td>\n",
       "    </tr>\n",
       "    <tr>\n",
       "      <th>5</th>\n",
       "      <td>hear ’ getting drivers licenses fellow kids…</td>\n",
       "    </tr>\n",
       "    <tr>\n",
       "      <th>6</th>\n",
       "      <td>already 😭😭</td>\n",
       "    </tr>\n",
       "    <tr>\n",
       "      <th>7</th>\n",
       "      <td>boys 3 trailer finally ready 😍😭😍😭 boys always ...</td>\n",
       "    </tr>\n",
       "    <tr>\n",
       "      <th>8</th>\n",
       "      <td>blowing minds's happening</td>\n",
       "    </tr>\n",
       "    <tr>\n",
       "      <th>9</th>\n",
       "      <td>absolutely blown away bridgerton musical playi...</td>\n",
       "    </tr>\n",
       "  </tbody>\n",
       "</table>\n",
       "</div>"
      ],
      "text/plain": [
       "                                               tweet\n",
       "0  matter kind movie want watch tonight amy adams...\n",
       "1   appreciation post flawless catch opening credits\n",
       "2                                                 ❤️\n",
       "3  nicolas cage screaming imaginary child named f...\n",
       "4  catch family calling 'the cussing show history...\n",
       "5       hear ’ getting drivers licenses fellow kids…\n",
       "6                                         already 😭😭\n",
       "7  boys 3 trailer finally ready 😍😭😍😭 boys always ...\n",
       "8                          blowing minds's happening\n",
       "9  absolutely blown away bridgerton musical playi..."
      ]
     },
     "execution_count": 300,
     "metadata": {},
     "output_type": "execute_result"
    }
   ],
   "source": [
    "df.head(10)"
   ]
  },
  {
   "cell_type": "markdown",
   "metadata": {},
   "source": [
    "#### 2.2 Create Emoji Column"
   ]
  },
  {
   "cell_type": "markdown",
   "metadata": {},
   "source": [
    "Extract emoji from every sentence using emoji.UNICODE_EMOJI."
   ]
  },
  {
   "cell_type": "code",
   "execution_count": 301,
   "metadata": {},
   "outputs": [],
   "source": [
    "def extract_emojis(posts):\n",
    "    return ''.join(c for c in posts if c in emoji.UNICODE_EMOJI)"
   ]
  },
  {
   "cell_type": "code",
   "execution_count": 302,
   "metadata": {},
   "outputs": [],
   "source": [
    "df['emoji'] = df.tweet.apply(extract_emojis)"
   ]
  },
  {
   "cell_type": "code",
   "execution_count": 303,
   "metadata": {
    "scrolled": false
   },
   "outputs": [
    {
     "data": {
      "text/html": [
       "<div>\n",
       "<style scoped>\n",
       "    .dataframe tbody tr th:only-of-type {\n",
       "        vertical-align: middle;\n",
       "    }\n",
       "\n",
       "    .dataframe tbody tr th {\n",
       "        vertical-align: top;\n",
       "    }\n",
       "\n",
       "    .dataframe thead th {\n",
       "        text-align: right;\n",
       "    }\n",
       "</style>\n",
       "<table border=\"1\" class=\"dataframe\">\n",
       "  <thead>\n",
       "    <tr style=\"text-align: right;\">\n",
       "      <th></th>\n",
       "      <th>tweet</th>\n",
       "      <th>emoji</th>\n",
       "    </tr>\n",
       "  </thead>\n",
       "  <tbody>\n",
       "    <tr>\n",
       "      <th>0</th>\n",
       "      <td>matter kind movie want watch tonight amy adams...</td>\n",
       "      <td></td>\n",
       "    </tr>\n",
       "    <tr>\n",
       "      <th>1</th>\n",
       "      <td>appreciation post flawless catch opening credits</td>\n",
       "      <td></td>\n",
       "    </tr>\n",
       "    <tr>\n",
       "      <th>2</th>\n",
       "      <td>❤️</td>\n",
       "      <td>❤</td>\n",
       "    </tr>\n",
       "    <tr>\n",
       "      <th>3</th>\n",
       "      <td>nicolas cage screaming imaginary child named f...</td>\n",
       "      <td>📺</td>\n",
       "    </tr>\n",
       "    <tr>\n",
       "      <th>4</th>\n",
       "      <td>catch family calling 'the cussing show history...</td>\n",
       "      <td></td>\n",
       "    </tr>\n",
       "    <tr>\n",
       "      <th>5</th>\n",
       "      <td>hear ’ getting drivers licenses fellow kids…</td>\n",
       "      <td></td>\n",
       "    </tr>\n",
       "    <tr>\n",
       "      <th>6</th>\n",
       "      <td>already 😭😭</td>\n",
       "      <td>😭😭</td>\n",
       "    </tr>\n",
       "    <tr>\n",
       "      <th>7</th>\n",
       "      <td>boys 3 trailer finally ready 😍😭😍😭 boys always ...</td>\n",
       "      <td>😍😭😍😭</td>\n",
       "    </tr>\n",
       "    <tr>\n",
       "      <th>8</th>\n",
       "      <td>blowing minds's happening</td>\n",
       "      <td></td>\n",
       "    </tr>\n",
       "    <tr>\n",
       "      <th>9</th>\n",
       "      <td>absolutely blown away bridgerton musical playi...</td>\n",
       "      <td></td>\n",
       "    </tr>\n",
       "    <tr>\n",
       "      <th>10</th>\n",
       "      <td>putting ’ protect life lupin</td>\n",
       "      <td></td>\n",
       "    </tr>\n",
       "    <tr>\n",
       "      <th>11</th>\n",
       "      <td>’ already love show mean ’ god ’ sake 🖤🖤🖤 lupin</td>\n",
       "      <td>🖤🖤🖤</td>\n",
       "    </tr>\n",
       "    <tr>\n",
       "      <th>12</th>\n",
       "      <td>psa lupin's first episode includes car chase e...</td>\n",
       "      <td></td>\n",
       "    </tr>\n",
       "    <tr>\n",
       "      <th>13</th>\n",
       "      <td>.... wait boys always forever arrives february...</td>\n",
       "      <td></td>\n",
       "    </tr>\n",
       "    <tr>\n",
       "      <th>14</th>\n",
       "      <td>’ hard believe started letter hot tub diner co...</td>\n",
       "      <td></td>\n",
       "    </tr>\n",
       "    <tr>\n",
       "      <th>15</th>\n",
       "      <td>meet parineeti chopra's girl train 🚆director's...</td>\n",
       "      <td>🚆</td>\n",
       "    </tr>\n",
       "    <tr>\n",
       "      <th>16</th>\n",
       "      <td>shoutout bridgerton fans</td>\n",
       "      <td></td>\n",
       "    </tr>\n",
       "    <tr>\n",
       "      <th>17</th>\n",
       "      <td>love much</td>\n",
       "      <td></td>\n",
       "    </tr>\n",
       "    <tr>\n",
       "      <th>18</th>\n",
       "      <td>puggerton 🐝</td>\n",
       "      <td>🐝</td>\n",
       "    </tr>\n",
       "    <tr>\n",
       "      <th>19</th>\n",
       "      <td>say instead 'm</td>\n",
       "      <td></td>\n",
       "    </tr>\n",
       "    <tr>\n",
       "      <th>20</th>\n",
       "      <td>protecting costs</td>\n",
       "      <td></td>\n",
       "    </tr>\n",
       "    <tr>\n",
       "      <th>21</th>\n",
       "      <td>lady whistledown fancam ...'s gossip</td>\n",
       "      <td></td>\n",
       "    </tr>\n",
       "    <tr>\n",
       "      <th>22</th>\n",
       "      <td>serve ancient city style</td>\n",
       "      <td></td>\n",
       "    </tr>\n",
       "    <tr>\n",
       "      <th>23</th>\n",
       "      <td>queue cover star vanessa kirby new film pieces...</td>\n",
       "      <td></td>\n",
       "    </tr>\n",
       "    <tr>\n",
       "      <th>24</th>\n",
       "      <td>jennifer love hewitt's can't hardly wait entra...</td>\n",
       "      <td></td>\n",
       "    </tr>\n",
       "    <tr>\n",
       "      <th>25</th>\n",
       "      <td>know rakes 👀 brush regency slang cast bridgerton</td>\n",
       "      <td>👀</td>\n",
       "    </tr>\n",
       "    <tr>\n",
       "      <th>26</th>\n",
       "      <td>first four weeks 41 million households project...</td>\n",
       "      <td></td>\n",
       "    </tr>\n",
       "    <tr>\n",
       "      <th>27</th>\n",
       "      <td>’ green room conversation shook chris rock t…</td>\n",
       "      <td></td>\n",
       "    </tr>\n",
       "    <tr>\n",
       "      <th>28</th>\n",
       "      <td>takes back</td>\n",
       "      <td></td>\n",
       "    </tr>\n",
       "    <tr>\n",
       "      <th>29</th>\n",
       "      <td>anthony bridgerton jonathan bailey played sam....</td>\n",
       "      <td></td>\n",
       "    </tr>\n",
       "    <tr>\n",
       "      <th>30</th>\n",
       "      <td>2021 new movie every week netflix's sneak peek...</td>\n",
       "      <td></td>\n",
       "    </tr>\n",
       "    <tr>\n",
       "      <th>31</th>\n",
       "      <td>happens us die surviving death — in-depth inve...</td>\n",
       "      <td></td>\n",
       "    </tr>\n",
       "    <tr>\n",
       "      <th>32</th>\n",
       "      <td>surviving death amazing someone always spiritu...</td>\n",
       "      <td></td>\n",
       "    </tr>\n",
       "    <tr>\n",
       "      <th>33</th>\n",
       "      <td>set reminder tomorrow 👉 big news share</td>\n",
       "      <td>👉</td>\n",
       "    </tr>\n",
       "    <tr>\n",
       "      <th>34</th>\n",
       "      <td>said needed riskyairlines ’ lying 👀 chris rock...</td>\n",
       "      <td>👀</td>\n",
       "    </tr>\n",
       "    <tr>\n",
       "      <th>35</th>\n",
       "      <td>amanda larusso exactly kind smart strong carin...</td>\n",
       "      <td>📺</td>\n",
       "    </tr>\n",
       "    <tr>\n",
       "      <th>36</th>\n",
       "      <td>reminder old guard</td>\n",
       "      <td></td>\n",
       "    </tr>\n",
       "    <tr>\n",
       "      <th>37</th>\n",
       "      <td>'s vacation never forget...rachel korine sprin...</td>\n",
       "      <td></td>\n",
       "    </tr>\n",
       "    <tr>\n",
       "      <th>38</th>\n",
       "      <td>💥 💥 💥 zack snyder 💥 💥 💥 ☠️ army dead ☠️ wild w...</td>\n",
       "      <td>💥💥💥💥💥💥☠☠</td>\n",
       "    </tr>\n",
       "    <tr>\n",
       "      <th>39</th>\n",
       "      <td>'s safeword ⛓️ bonding season 2 comes netflix ...</td>\n",
       "      <td>⛓⛓</td>\n",
       "    </tr>\n",
       "    <tr>\n",
       "      <th>40</th>\n",
       "      <td>itunes bridgerton covers netflix series 1 new ...</td>\n",
       "      <td></td>\n",
       "    </tr>\n",
       "    <tr>\n",
       "      <th>41</th>\n",
       "      <td>turns bridgerton fans can't get enough incredi...</td>\n",
       "      <td></td>\n",
       "    </tr>\n",
       "    <tr>\n",
       "      <th>42</th>\n",
       "      <td>'s talent creativity bridgerton bridgertonnetflix</td>\n",
       "      <td></td>\n",
       "    </tr>\n",
       "    <tr>\n",
       "      <th>43</th>\n",
       "      <td>1.9 million views across platforms 7 days shar...</td>\n",
       "      <td></td>\n",
       "    </tr>\n",
       "    <tr>\n",
       "      <th>44</th>\n",
       "      <td>anyone else experiencing withdrawal damned goo...</td>\n",
       "      <td></td>\n",
       "    </tr>\n",
       "    <tr>\n",
       "      <th>45</th>\n",
       "      <td></td>\n",
       "      <td></td>\n",
       "    </tr>\n",
       "    <tr>\n",
       "      <th>46</th>\n",
       "      <td>carrie miranda charlotte samantha netflix 🎥 se...</td>\n",
       "      <td>🎥🎥</td>\n",
       "    </tr>\n",
       "    <tr>\n",
       "      <th>47</th>\n",
       "      <td></td>\n",
       "      <td></td>\n",
       "    </tr>\n",
       "    <tr>\n",
       "      <th>48</th>\n",
       "      <td>famous people world group text lots big news s...</td>\n",
       "      <td></td>\n",
       "    </tr>\n",
       "    <tr>\n",
       "      <th>49</th>\n",
       "      <td>’ number 2 👋</td>\n",
       "      <td>👋</td>\n",
       "    </tr>\n",
       "  </tbody>\n",
       "</table>\n",
       "</div>"
      ],
      "text/plain": [
       "                                                tweet     emoji\n",
       "0   matter kind movie want watch tonight amy adams...          \n",
       "1    appreciation post flawless catch opening credits          \n",
       "2                                                  ❤️         ❤\n",
       "3   nicolas cage screaming imaginary child named f...         📺\n",
       "4   catch family calling 'the cussing show history...          \n",
       "5        hear ’ getting drivers licenses fellow kids…          \n",
       "6                                          already 😭😭        😭😭\n",
       "7   boys 3 trailer finally ready 😍😭😍😭 boys always ...      😍😭😍😭\n",
       "8                           blowing minds's happening          \n",
       "9   absolutely blown away bridgerton musical playi...          \n",
       "10                       putting ’ protect life lupin          \n",
       "11    ’ already love show mean ’ god ’ sake 🖤🖤🖤 lupin       🖤🖤🖤\n",
       "12  psa lupin's first episode includes car chase e...          \n",
       "13  .... wait boys always forever arrives february...          \n",
       "14  ’ hard believe started letter hot tub diner co...          \n",
       "15  meet parineeti chopra's girl train 🚆director's...         🚆\n",
       "16                           shoutout bridgerton fans          \n",
       "17                                          love much          \n",
       "18                                        puggerton 🐝         🐝\n",
       "19                                     say instead 'm          \n",
       "20                                   protecting costs          \n",
       "21               lady whistledown fancam ...'s gossip          \n",
       "22                           serve ancient city style          \n",
       "23  queue cover star vanessa kirby new film pieces...          \n",
       "24  jennifer love hewitt's can't hardly wait entra...          \n",
       "25   know rakes 👀 brush regency slang cast bridgerton         👀\n",
       "26  first four weeks 41 million households project...          \n",
       "27      ’ green room conversation shook chris rock t…          \n",
       "28                                         takes back          \n",
       "29  anthony bridgerton jonathan bailey played sam....          \n",
       "30  2021 new movie every week netflix's sneak peek...          \n",
       "31  happens us die surviving death — in-depth inve...          \n",
       "32  surviving death amazing someone always spiritu...          \n",
       "33             set reminder tomorrow 👉 big news share         👉\n",
       "34  said needed riskyairlines ’ lying 👀 chris rock...         👀\n",
       "35  amanda larusso exactly kind smart strong carin...         📺\n",
       "36                                 reminder old guard          \n",
       "37  's vacation never forget...rachel korine sprin...          \n",
       "38  💥 💥 💥 zack snyder 💥 💥 💥 ☠️ army dead ☠️ wild w...  💥💥💥💥💥💥☠☠\n",
       "39  's safeword ⛓️ bonding season 2 comes netflix ...        ⛓⛓\n",
       "40  itunes bridgerton covers netflix series 1 new ...          \n",
       "41  turns bridgerton fans can't get enough incredi...          \n",
       "42  's talent creativity bridgerton bridgertonnetflix          \n",
       "43  1.9 million views across platforms 7 days shar...          \n",
       "44  anyone else experiencing withdrawal damned goo...          \n",
       "45                                                             \n",
       "46  carrie miranda charlotte samantha netflix 🎥 se...        🎥🎥\n",
       "47                                                             \n",
       "48  famous people world group text lots big news s...          \n",
       "49                                       ’ number 2 👋         👋"
      ]
     },
     "execution_count": 303,
     "metadata": {},
     "output_type": "execute_result"
    }
   ],
   "source": [
    "df.head(50)"
   ]
  },
  {
   "cell_type": "markdown",
   "metadata": {},
   "source": [
    "Remove emoji in a sentence after creating an emoji column."
   ]
  },
  {
   "cell_type": "code",
   "execution_count": 304,
   "metadata": {},
   "outputs": [],
   "source": [
    "def remove_emojis(posts):\n",
    "    pattern = \"[@!\\w]+\"\n",
    "    return ' '.join(re.findall(pattern, posts))"
   ]
  },
  {
   "cell_type": "code",
   "execution_count": 305,
   "metadata": {},
   "outputs": [],
   "source": [
    "df['tweet'] = df.tweet.apply(remove_emojis)"
   ]
  },
  {
   "cell_type": "markdown",
   "metadata": {},
   "source": [
    "Check for missing values in emoji column."
   ]
  },
  {
   "cell_type": "code",
   "execution_count": 306,
   "metadata": {
    "scrolled": true
   },
   "outputs": [
    {
     "data": {
      "text/plain": [
       "0"
      ]
     },
     "execution_count": 306,
     "metadata": {},
     "output_type": "execute_result"
    }
   ],
   "source": [
    "df.emoji.isna().sum()"
   ]
  },
  {
   "cell_type": "markdown",
   "metadata": {},
   "source": [
    "Count number of emoji in a sentence and create a new column."
   ]
  },
  {
   "cell_type": "code",
   "execution_count": 308,
   "metadata": {},
   "outputs": [],
   "source": [
    "def unique_emoji_count(posts):\n",
    "    return len(set([c for c in posts]))"
   ]
  },
  {
   "cell_type": "code",
   "execution_count": 309,
   "metadata": {},
   "outputs": [],
   "source": [
    "df['unique_emoji_count'] = df.emoji.apply(unique_emoji_count)"
   ]
  },
  {
   "cell_type": "code",
   "execution_count": 310,
   "metadata": {
    "scrolled": true
   },
   "outputs": [
    {
     "data": {
      "text/html": [
       "<div>\n",
       "<style scoped>\n",
       "    .dataframe tbody tr th:only-of-type {\n",
       "        vertical-align: middle;\n",
       "    }\n",
       "\n",
       "    .dataframe tbody tr th {\n",
       "        vertical-align: top;\n",
       "    }\n",
       "\n",
       "    .dataframe thead th {\n",
       "        text-align: right;\n",
       "    }\n",
       "</style>\n",
       "<table border=\"1\" class=\"dataframe\">\n",
       "  <thead>\n",
       "    <tr style=\"text-align: right;\">\n",
       "      <th></th>\n",
       "      <th>tweet</th>\n",
       "      <th>emoji</th>\n",
       "      <th>unique_emoji_count</th>\n",
       "    </tr>\n",
       "  </thead>\n",
       "  <tbody>\n",
       "    <tr>\n",
       "      <th>0</th>\n",
       "      <td>matter kind movie want watch tonight amy adams...</td>\n",
       "      <td></td>\n",
       "      <td>0</td>\n",
       "    </tr>\n",
       "    <tr>\n",
       "      <th>1</th>\n",
       "      <td>appreciation post flawless catch opening credits</td>\n",
       "      <td></td>\n",
       "      <td>0</td>\n",
       "    </tr>\n",
       "    <tr>\n",
       "      <th>2</th>\n",
       "      <td></td>\n",
       "      <td>❤</td>\n",
       "      <td>1</td>\n",
       "    </tr>\n",
       "    <tr>\n",
       "      <th>3</th>\n",
       "      <td>nicolas cage screaming imaginary child named f...</td>\n",
       "      <td>📺</td>\n",
       "      <td>1</td>\n",
       "    </tr>\n",
       "    <tr>\n",
       "      <th>4</th>\n",
       "      <td>catch family calling the cussing show history ...</td>\n",
       "      <td></td>\n",
       "      <td>0</td>\n",
       "    </tr>\n",
       "    <tr>\n",
       "      <th>5</th>\n",
       "      <td>hear getting drivers licenses fellow kids</td>\n",
       "      <td></td>\n",
       "      <td>0</td>\n",
       "    </tr>\n",
       "    <tr>\n",
       "      <th>6</th>\n",
       "      <td>already</td>\n",
       "      <td>😭😭</td>\n",
       "      <td>1</td>\n",
       "    </tr>\n",
       "    <tr>\n",
       "      <th>7</th>\n",
       "      <td>boys 3 trailer finally ready boys always forev...</td>\n",
       "      <td>😍😭😍😭</td>\n",
       "      <td>2</td>\n",
       "    </tr>\n",
       "    <tr>\n",
       "      <th>8</th>\n",
       "      <td>blowing minds s happening</td>\n",
       "      <td></td>\n",
       "      <td>0</td>\n",
       "    </tr>\n",
       "    <tr>\n",
       "      <th>9</th>\n",
       "      <td>absolutely blown away bridgerton musical playi...</td>\n",
       "      <td></td>\n",
       "      <td>0</td>\n",
       "    </tr>\n",
       "  </tbody>\n",
       "</table>\n",
       "</div>"
      ],
      "text/plain": [
       "                                               tweet emoji  unique_emoji_count\n",
       "0  matter kind movie want watch tonight amy adams...                         0\n",
       "1   appreciation post flawless catch opening credits                         0\n",
       "2                                                        ❤                   1\n",
       "3  nicolas cage screaming imaginary child named f...     📺                   1\n",
       "4  catch family calling the cussing show history ...                         0\n",
       "5          hear getting drivers licenses fellow kids                         0\n",
       "6                                            already    😭😭                   1\n",
       "7  boys 3 trailer finally ready boys always forev...  😍😭😍😭                   2\n",
       "8                          blowing minds s happening                         0\n",
       "9  absolutely blown away bridgerton musical playi...                         0"
      ]
     },
     "execution_count": 310,
     "metadata": {},
     "output_type": "execute_result"
    }
   ],
   "source": [
    "df.head(10)"
   ]
  },
  {
   "cell_type": "markdown",
   "metadata": {},
   "source": [
    "Compute the sentiment score using vaderSentiment.vadeerSentiment library"
   ]
  },
  {
   "cell_type": "code",
   "execution_count": 311,
   "metadata": {},
   "outputs": [],
   "source": [
    "from vaderSentiment.vaderSentiment import SentimentIntensityAnalyzer\n",
    "analyzer = SentimentIntensityAnalyzer()\n",
    "def sentiment_scores(posts):\n",
    "    return analyzer.polarity_scores(posts)['compound']"
   ]
  },
  {
   "cell_type": "code",
   "execution_count": 312,
   "metadata": {},
   "outputs": [],
   "source": [
    "df['sentiment_score'] = df.tweet.apply(sentiment_scores)"
   ]
  },
  {
   "cell_type": "code",
   "execution_count": 313,
   "metadata": {
    "scrolled": false
   },
   "outputs": [
    {
     "data": {
      "text/html": [
       "<div>\n",
       "<style scoped>\n",
       "    .dataframe tbody tr th:only-of-type {\n",
       "        vertical-align: middle;\n",
       "    }\n",
       "\n",
       "    .dataframe tbody tr th {\n",
       "        vertical-align: top;\n",
       "    }\n",
       "\n",
       "    .dataframe thead th {\n",
       "        text-align: right;\n",
       "    }\n",
       "</style>\n",
       "<table border=\"1\" class=\"dataframe\">\n",
       "  <thead>\n",
       "    <tr style=\"text-align: right;\">\n",
       "      <th></th>\n",
       "      <th>tweet</th>\n",
       "      <th>emoji</th>\n",
       "      <th>unique_emoji_count</th>\n",
       "      <th>sentiment_score</th>\n",
       "    </tr>\n",
       "  </thead>\n",
       "  <tbody>\n",
       "    <tr>\n",
       "      <th>0</th>\n",
       "      <td>matter kind movie want watch tonight amy adams...</td>\n",
       "      <td></td>\n",
       "      <td>0</td>\n",
       "      <td>0.5859</td>\n",
       "    </tr>\n",
       "    <tr>\n",
       "      <th>1</th>\n",
       "      <td>appreciation post flawless catch opening credits</td>\n",
       "      <td></td>\n",
       "      <td>0</td>\n",
       "      <td>0.8442</td>\n",
       "    </tr>\n",
       "    <tr>\n",
       "      <th>2</th>\n",
       "      <td></td>\n",
       "      <td>❤</td>\n",
       "      <td>1</td>\n",
       "      <td>0.0000</td>\n",
       "    </tr>\n",
       "    <tr>\n",
       "      <th>3</th>\n",
       "      <td>nicolas cage screaming imaginary child named f...</td>\n",
       "      <td>📺</td>\n",
       "      <td>1</td>\n",
       "      <td>0.0772</td>\n",
       "    </tr>\n",
       "    <tr>\n",
       "      <th>4</th>\n",
       "      <td>catch family calling the cussing show history ...</td>\n",
       "      <td></td>\n",
       "      <td>0</td>\n",
       "      <td>0.0258</td>\n",
       "    </tr>\n",
       "    <tr>\n",
       "      <th>5</th>\n",
       "      <td>hear getting drivers licenses fellow kids</td>\n",
       "      <td></td>\n",
       "      <td>0</td>\n",
       "      <td>0.0000</td>\n",
       "    </tr>\n",
       "    <tr>\n",
       "      <th>6</th>\n",
       "      <td>already</td>\n",
       "      <td>😭😭</td>\n",
       "      <td>1</td>\n",
       "      <td>0.0000</td>\n",
       "    </tr>\n",
       "    <tr>\n",
       "      <th>7</th>\n",
       "      <td>boys 3 trailer finally ready boys always forev...</td>\n",
       "      <td>😍😭😍😭</td>\n",
       "      <td>2</td>\n",
       "      <td>0.3612</td>\n",
       "    </tr>\n",
       "    <tr>\n",
       "      <th>8</th>\n",
       "      <td>blowing minds s happening</td>\n",
       "      <td></td>\n",
       "      <td>0</td>\n",
       "      <td>0.0000</td>\n",
       "    </tr>\n",
       "    <tr>\n",
       "      <th>9</th>\n",
       "      <td>absolutely blown away bridgerton musical playi...</td>\n",
       "      <td></td>\n",
       "      <td>0</td>\n",
       "      <td>0.2023</td>\n",
       "    </tr>\n",
       "  </tbody>\n",
       "</table>\n",
       "</div>"
      ],
      "text/plain": [
       "                                               tweet emoji  \\\n",
       "0  matter kind movie want watch tonight amy adams...         \n",
       "1   appreciation post flawless catch opening credits         \n",
       "2                                                        ❤   \n",
       "3  nicolas cage screaming imaginary child named f...     📺   \n",
       "4  catch family calling the cussing show history ...         \n",
       "5          hear getting drivers licenses fellow kids         \n",
       "6                                            already    😭😭   \n",
       "7  boys 3 trailer finally ready boys always forev...  😍😭😍😭   \n",
       "8                          blowing minds s happening         \n",
       "9  absolutely blown away bridgerton musical playi...         \n",
       "\n",
       "   unique_emoji_count  sentiment_score  \n",
       "0                   0           0.5859  \n",
       "1                   0           0.8442  \n",
       "2                   1           0.0000  \n",
       "3                   1           0.0772  \n",
       "4                   0           0.0258  \n",
       "5                   0           0.0000  \n",
       "6                   1           0.0000  \n",
       "7                   2           0.3612  \n",
       "8                   0           0.0000  \n",
       "9                   0           0.2023  "
      ]
     },
     "execution_count": 313,
     "metadata": {},
     "output_type": "execute_result"
    }
   ],
   "source": [
    "df.head(10)"
   ]
  },
  {
   "cell_type": "markdown",
   "metadata": {},
   "source": [
    "Compute the usage of excalamation point in a sentence. The excalamation remarks can either show excitement, frustration or anger."
   ]
  },
  {
   "cell_type": "code",
   "execution_count": 314,
   "metadata": {
    "scrolled": true
   },
   "outputs": [
    {
     "name": "stderr",
     "output_type": "stream",
     "text": [
      "c:\\users\\acer\\appdata\\local\\programs\\python\\python38-32\\lib\\site-packages\\tqdm\\std.py:703: FutureWarning: The Panel class is removed from pandas. Accessing it from the top-level namespace will also be removed in the next version\n",
      "  from pandas import Panel\n"
     ]
    }
   ],
   "source": [
    "from tqdm import tqdm\n",
    "tqdm.pandas()"
   ]
  },
  {
   "cell_type": "code",
   "execution_count": 315,
   "metadata": {},
   "outputs": [],
   "source": [
    "def exclamation_percentage(posts):\n",
    "    count = np.char.count(posts, sub ='!').sum()\n",
    "    return count / len(posts)"
   ]
  },
  {
   "cell_type": "code",
   "execution_count": 316,
   "metadata": {
    "scrolled": true
   },
   "outputs": [
    {
     "name": "stderr",
     "output_type": "stream",
     "text": [
      "100%|███████████████████████████████████████████████████████████████████████████| 3199/3199 [00:00<00:00, 52445.60it/s]\n"
     ]
    }
   ],
   "source": [
    "df['exclamation_points'] = df.tweet.progress_apply(exclamation_percentage)"
   ]
  },
  {
   "cell_type": "code",
   "execution_count": 317,
   "metadata": {
    "scrolled": true
   },
   "outputs": [
    {
     "data": {
      "text/html": [
       "<div>\n",
       "<style scoped>\n",
       "    .dataframe tbody tr th:only-of-type {\n",
       "        vertical-align: middle;\n",
       "    }\n",
       "\n",
       "    .dataframe tbody tr th {\n",
       "        vertical-align: top;\n",
       "    }\n",
       "\n",
       "    .dataframe thead th {\n",
       "        text-align: right;\n",
       "    }\n",
       "</style>\n",
       "<table border=\"1\" class=\"dataframe\">\n",
       "  <thead>\n",
       "    <tr style=\"text-align: right;\">\n",
       "      <th></th>\n",
       "      <th>tweet</th>\n",
       "      <th>emoji</th>\n",
       "      <th>unique_emoji_count</th>\n",
       "      <th>sentiment_score</th>\n",
       "      <th>exclamation_points</th>\n",
       "    </tr>\n",
       "  </thead>\n",
       "  <tbody>\n",
       "    <tr>\n",
       "      <th>0</th>\n",
       "      <td>matter kind movie want watch tonight amy adams...</td>\n",
       "      <td></td>\n",
       "      <td>0</td>\n",
       "      <td>0.5859</td>\n",
       "      <td>0.0</td>\n",
       "    </tr>\n",
       "    <tr>\n",
       "      <th>1</th>\n",
       "      <td>appreciation post flawless catch opening credits</td>\n",
       "      <td></td>\n",
       "      <td>0</td>\n",
       "      <td>0.8442</td>\n",
       "      <td>0.0</td>\n",
       "    </tr>\n",
       "    <tr>\n",
       "      <th>2</th>\n",
       "      <td></td>\n",
       "      <td>❤</td>\n",
       "      <td>1</td>\n",
       "      <td>0.0000</td>\n",
       "      <td>NaN</td>\n",
       "    </tr>\n",
       "    <tr>\n",
       "      <th>3</th>\n",
       "      <td>nicolas cage screaming imaginary child named f...</td>\n",
       "      <td>📺</td>\n",
       "      <td>1</td>\n",
       "      <td>0.0772</td>\n",
       "      <td>0.0</td>\n",
       "    </tr>\n",
       "    <tr>\n",
       "      <th>4</th>\n",
       "      <td>catch family calling the cussing show history ...</td>\n",
       "      <td></td>\n",
       "      <td>0</td>\n",
       "      <td>0.0258</td>\n",
       "      <td>0.0</td>\n",
       "    </tr>\n",
       "    <tr>\n",
       "      <th>5</th>\n",
       "      <td>hear getting drivers licenses fellow kids</td>\n",
       "      <td></td>\n",
       "      <td>0</td>\n",
       "      <td>0.0000</td>\n",
       "      <td>0.0</td>\n",
       "    </tr>\n",
       "    <tr>\n",
       "      <th>6</th>\n",
       "      <td>already</td>\n",
       "      <td>😭😭</td>\n",
       "      <td>1</td>\n",
       "      <td>0.0000</td>\n",
       "      <td>0.0</td>\n",
       "    </tr>\n",
       "    <tr>\n",
       "      <th>7</th>\n",
       "      <td>boys 3 trailer finally ready boys always forev...</td>\n",
       "      <td>😍😭😍😭</td>\n",
       "      <td>2</td>\n",
       "      <td>0.3612</td>\n",
       "      <td>0.0</td>\n",
       "    </tr>\n",
       "    <tr>\n",
       "      <th>8</th>\n",
       "      <td>blowing minds s happening</td>\n",
       "      <td></td>\n",
       "      <td>0</td>\n",
       "      <td>0.0000</td>\n",
       "      <td>0.0</td>\n",
       "    </tr>\n",
       "    <tr>\n",
       "      <th>9</th>\n",
       "      <td>absolutely blown away bridgerton musical playi...</td>\n",
       "      <td></td>\n",
       "      <td>0</td>\n",
       "      <td>0.2023</td>\n",
       "      <td>0.0</td>\n",
       "    </tr>\n",
       "  </tbody>\n",
       "</table>\n",
       "</div>"
      ],
      "text/plain": [
       "                                               tweet emoji  \\\n",
       "0  matter kind movie want watch tonight amy adams...         \n",
       "1   appreciation post flawless catch opening credits         \n",
       "2                                                        ❤   \n",
       "3  nicolas cage screaming imaginary child named f...     📺   \n",
       "4  catch family calling the cussing show history ...         \n",
       "5          hear getting drivers licenses fellow kids         \n",
       "6                                            already    😭😭   \n",
       "7  boys 3 trailer finally ready boys always forev...  😍😭😍😭   \n",
       "8                          blowing minds s happening         \n",
       "9  absolutely blown away bridgerton musical playi...         \n",
       "\n",
       "   unique_emoji_count  sentiment_score  exclamation_points  \n",
       "0                   0           0.5859                 0.0  \n",
       "1                   0           0.8442                 0.0  \n",
       "2                   1           0.0000                 NaN  \n",
       "3                   1           0.0772                 0.0  \n",
       "4                   0           0.0258                 0.0  \n",
       "5                   0           0.0000                 0.0  \n",
       "6                   1           0.0000                 0.0  \n",
       "7                   2           0.3612                 0.0  \n",
       "8                   0           0.0000                 0.0  \n",
       "9                   0           0.2023                 0.0  "
      ]
     },
     "execution_count": 317,
     "metadata": {},
     "output_type": "execute_result"
    }
   ],
   "source": [
    "df.head(10)"
   ]
  },
  {
   "cell_type": "markdown",
   "metadata": {},
   "source": [
    "Check for missing values in other columns."
   ]
  },
  {
   "cell_type": "code",
   "execution_count": 318,
   "metadata": {
    "scrolled": false
   },
   "outputs": [
    {
     "name": "stdout",
     "output_type": "stream",
     "text": [
      "<class 'pandas.core.frame.DataFrame'>\n",
      "RangeIndex: 3199 entries, 0 to 3198\n",
      "Data columns (total 5 columns):\n",
      " #   Column              Non-Null Count  Dtype  \n",
      "---  ------              --------------  -----  \n",
      " 0   tweet               3199 non-null   object \n",
      " 1   emoji               3199 non-null   object \n",
      " 2   unique_emoji_count  3199 non-null   int64  \n",
      " 3   sentiment_score     3199 non-null   float64\n",
      " 4   exclamation_points  3079 non-null   float64\n",
      "dtypes: float64(2), int64(1), object(2)\n",
      "memory usage: 100.0+ KB\n"
     ]
    }
   ],
   "source": [
    "df.info()"
   ]
  },
  {
   "cell_type": "markdown",
   "metadata": {},
   "source": [
    "exclamation_points column has several missing values, therefore, the missing values will be imputed by using mean value."
   ]
  },
  {
   "cell_type": "code",
   "execution_count": 319,
   "metadata": {},
   "outputs": [],
   "source": [
    "pd.options.mode.chained_assignment = None  # default='warn'"
   ]
  },
  {
   "cell_type": "code",
   "execution_count": 320,
   "metadata": {},
   "outputs": [],
   "source": [
    "average_exclamationpoints = df[\"exclamation_points\"].mean()"
   ]
  },
  {
   "cell_type": "code",
   "execution_count": 321,
   "metadata": {},
   "outputs": [],
   "source": [
    "df[\"exclamation_points\"][np.isnan(df[\"exclamation_points\"])] = average_exclamationpoints"
   ]
  },
  {
   "cell_type": "code",
   "execution_count": 322,
   "metadata": {
    "scrolled": false
   },
   "outputs": [
    {
     "name": "stdout",
     "output_type": "stream",
     "text": [
      "<class 'pandas.core.frame.DataFrame'>\n",
      "RangeIndex: 3199 entries, 0 to 3198\n",
      "Data columns (total 5 columns):\n",
      " #   Column              Non-Null Count  Dtype  \n",
      "---  ------              --------------  -----  \n",
      " 0   tweet               3199 non-null   object \n",
      " 1   emoji               3199 non-null   object \n",
      " 2   unique_emoji_count  3199 non-null   int64  \n",
      " 3   sentiment_score     3199 non-null   float64\n",
      " 4   exclamation_points  3199 non-null   float64\n",
      "dtypes: float64(2), int64(1), object(2)\n",
      "memory usage: 100.0+ KB\n"
     ]
    }
   ],
   "source": [
    "df.info()"
   ]
  },
  {
   "cell_type": "markdown",
   "metadata": {},
   "source": [
    "Filter no-emoji data."
   ]
  },
  {
   "cell_type": "code",
   "execution_count": 323,
   "metadata": {},
   "outputs": [],
   "source": [
    "df = df[df.unique_emoji_count > 0]"
   ]
  },
  {
   "cell_type": "code",
   "execution_count": 324,
   "metadata": {},
   "outputs": [],
   "source": [
    "df.reset_index(inplace = True)"
   ]
  },
  {
   "cell_type": "code",
   "execution_count": 325,
   "metadata": {
    "scrolled": true
   },
   "outputs": [
    {
     "data": {
      "text/html": [
       "<div>\n",
       "<style scoped>\n",
       "    .dataframe tbody tr th:only-of-type {\n",
       "        vertical-align: middle;\n",
       "    }\n",
       "\n",
       "    .dataframe tbody tr th {\n",
       "        vertical-align: top;\n",
       "    }\n",
       "\n",
       "    .dataframe thead th {\n",
       "        text-align: right;\n",
       "    }\n",
       "</style>\n",
       "<table border=\"1\" class=\"dataframe\">\n",
       "  <thead>\n",
       "    <tr style=\"text-align: right;\">\n",
       "      <th></th>\n",
       "      <th>index</th>\n",
       "      <th>tweet</th>\n",
       "      <th>emoji</th>\n",
       "      <th>unique_emoji_count</th>\n",
       "      <th>sentiment_score</th>\n",
       "      <th>exclamation_points</th>\n",
       "    </tr>\n",
       "  </thead>\n",
       "  <tbody>\n",
       "    <tr>\n",
       "      <th>0</th>\n",
       "      <td>2</td>\n",
       "      <td></td>\n",
       "      <td>❤</td>\n",
       "      <td>1</td>\n",
       "      <td>0.0000</td>\n",
       "      <td>0.0</td>\n",
       "    </tr>\n",
       "    <tr>\n",
       "      <th>1</th>\n",
       "      <td>3</td>\n",
       "      <td>nicolas cage screaming imaginary child named f...</td>\n",
       "      <td>📺</td>\n",
       "      <td>1</td>\n",
       "      <td>0.0772</td>\n",
       "      <td>0.0</td>\n",
       "    </tr>\n",
       "    <tr>\n",
       "      <th>2</th>\n",
       "      <td>6</td>\n",
       "      <td>already</td>\n",
       "      <td>😭😭</td>\n",
       "      <td>1</td>\n",
       "      <td>0.0000</td>\n",
       "      <td>0.0</td>\n",
       "    </tr>\n",
       "    <tr>\n",
       "      <th>3</th>\n",
       "      <td>7</td>\n",
       "      <td>boys 3 trailer finally ready boys always forev...</td>\n",
       "      <td>😍😭😍😭</td>\n",
       "      <td>2</td>\n",
       "      <td>0.3612</td>\n",
       "      <td>0.0</td>\n",
       "    </tr>\n",
       "    <tr>\n",
       "      <th>4</th>\n",
       "      <td>11</td>\n",
       "      <td>already love show mean god sake lupin</td>\n",
       "      <td>🖤🖤🖤</td>\n",
       "      <td>1</td>\n",
       "      <td>0.7430</td>\n",
       "      <td>0.0</td>\n",
       "    </tr>\n",
       "    <tr>\n",
       "      <th>5</th>\n",
       "      <td>15</td>\n",
       "      <td>meet parineeti chopra s girl train director s ...</td>\n",
       "      <td>🚆</td>\n",
       "      <td>1</td>\n",
       "      <td>0.1027</td>\n",
       "      <td>0.0</td>\n",
       "    </tr>\n",
       "    <tr>\n",
       "      <th>6</th>\n",
       "      <td>18</td>\n",
       "      <td>puggerton</td>\n",
       "      <td>🐝</td>\n",
       "      <td>1</td>\n",
       "      <td>0.0000</td>\n",
       "      <td>0.0</td>\n",
       "    </tr>\n",
       "    <tr>\n",
       "      <th>7</th>\n",
       "      <td>25</td>\n",
       "      <td>know rakes brush regency slang cast bridgerton</td>\n",
       "      <td>👀</td>\n",
       "      <td>1</td>\n",
       "      <td>0.0000</td>\n",
       "      <td>0.0</td>\n",
       "    </tr>\n",
       "    <tr>\n",
       "      <th>8</th>\n",
       "      <td>33</td>\n",
       "      <td>set reminder tomorrow big news share</td>\n",
       "      <td>👉</td>\n",
       "      <td>1</td>\n",
       "      <td>0.2960</td>\n",
       "      <td>0.0</td>\n",
       "    </tr>\n",
       "    <tr>\n",
       "      <th>9</th>\n",
       "      <td>34</td>\n",
       "      <td>said needed riskyairlines lying chris rock tot...</td>\n",
       "      <td>👀</td>\n",
       "      <td>1</td>\n",
       "      <td>-0.6705</td>\n",
       "      <td>0.0</td>\n",
       "    </tr>\n",
       "  </tbody>\n",
       "</table>\n",
       "</div>"
      ],
      "text/plain": [
       "   index                                              tweet emoji  \\\n",
       "0      2                                                        ❤   \n",
       "1      3  nicolas cage screaming imaginary child named f...     📺   \n",
       "2      6                                            already    😭😭   \n",
       "3      7  boys 3 trailer finally ready boys always forev...  😍😭😍😭   \n",
       "4     11              already love show mean god sake lupin   🖤🖤🖤   \n",
       "5     15  meet parineeti chopra s girl train director s ...     🚆   \n",
       "6     18                                          puggerton     🐝   \n",
       "7     25     know rakes brush regency slang cast bridgerton     👀   \n",
       "8     33               set reminder tomorrow big news share     👉   \n",
       "9     34  said needed riskyairlines lying chris rock tot...     👀   \n",
       "\n",
       "   unique_emoji_count  sentiment_score  exclamation_points  \n",
       "0                   1           0.0000                 0.0  \n",
       "1                   1           0.0772                 0.0  \n",
       "2                   1           0.0000                 0.0  \n",
       "3                   2           0.3612                 0.0  \n",
       "4                   1           0.7430                 0.0  \n",
       "5                   1           0.1027                 0.0  \n",
       "6                   1           0.0000                 0.0  \n",
       "7                   1           0.0000                 0.0  \n",
       "8                   1           0.2960                 0.0  \n",
       "9                   1          -0.6705                 0.0  "
      ]
     },
     "execution_count": 325,
     "metadata": {},
     "output_type": "execute_result"
    }
   ],
   "source": [
    "df.head(10)"
   ]
  },
  {
   "cell_type": "markdown",
   "metadata": {},
   "source": [
    "Count number of times used for every emoji."
   ]
  },
  {
   "cell_type": "code",
   "execution_count": 326,
   "metadata": {},
   "outputs": [
    {
     "data": {
      "text/plain": [
       "📺    36\n",
       "❤    16\n",
       "🎥    10\n",
       "🥺     9\n",
       "👀     9\n",
       "💜     9\n",
       "🤍     7\n",
       "📽     7\n",
       "😍     7\n",
       "✨     6\n",
       "🔥     5\n",
       "🖤     5\n",
       "🗣     4\n",
       "😭     4\n",
       "🤝     4\n",
       "💕     3\n",
       "👑     3\n",
       "😂     3\n",
       "💛     3\n",
       "🥰     3\n",
       "📸     3\n",
       "📷     3\n",
       "🤩     2\n",
       "💞     2\n",
       "🔎     2\n",
       "💝     2\n",
       "♟     2\n",
       "🤣     2\n",
       "☂     2\n",
       "🌑     2\n",
       "Name: emoji, dtype: int64"
      ]
     },
     "execution_count": 326,
     "metadata": {},
     "output_type": "execute_result"
    }
   ],
   "source": [
    "df[(df.emoji.apply(len) == 1)].emoji.value_counts()[:30]"
   ]
  },
  {
   "cell_type": "markdown",
   "metadata": {},
   "source": [
    "Define the emoji's expressions."
   ]
  },
  {
   "cell_type": "code",
   "execution_count": 327,
   "metadata": {},
   "outputs": [],
   "source": [
    "chill = ['📺']"
   ]
  },
  {
   "cell_type": "code",
   "execution_count": 328,
   "metadata": {
    "scrolled": true
   },
   "outputs": [],
   "source": [
    "sad = ['😩','😢','😫','😓','😟','🙁','😞', '😔', '😣', '😭']"
   ]
  },
  {
   "cell_type": "code",
   "execution_count": 329,
   "metadata": {},
   "outputs": [],
   "source": [
    "fearful = [ '😱', '😰','😨'] "
   ]
  },
  {
   "cell_type": "code",
   "execution_count": 330,
   "metadata": {},
   "outputs": [],
   "source": [
    "angry = ['😡','😠','🤬']"
   ]
  },
  {
   "cell_type": "code",
   "execution_count": 331,
   "metadata": {},
   "outputs": [],
   "source": [
    "happy = ['😊','🤗','😁','😌','😀','🙂','😄', '❤', '💜', '🤍', '🥰']"
   ]
  },
  {
   "cell_type": "code",
   "execution_count": 332,
   "metadata": {},
   "outputs": [],
   "source": [
    "excited = ['👀', '😍', '😻', '😙', '👏']"
   ]
  },
  {
   "cell_type": "code",
   "execution_count": 333,
   "metadata": {},
   "outputs": [],
   "source": [
    "annoyed = ['😒', '😑']"
   ]
  },
  {
   "cell_type": "markdown",
   "metadata": {},
   "source": [
    "Condence multiple emojis exists in a sentence by using pop() function when raising the exception (-> only a single emoji)."
   ]
  },
  {
   "cell_type": "code",
   "execution_count": 334,
   "metadata": {},
   "outputs": [],
   "source": [
    "def condence_emojis(posts):\n",
    "    try:\n",
    "        return set(posts).pop()\n",
    "    except:\n",
    "        return None"
   ]
  },
  {
   "cell_type": "markdown",
   "metadata": {},
   "source": [
    "Create a dummy dataframe using copy() function to calculate the mean of emoji's sentiment score."
   ]
  },
  {
   "cell_type": "code",
   "execution_count": 335,
   "metadata": {},
   "outputs": [],
   "source": [
    "df2 = df.copy()\n",
    "df2 = df2[df2.unique_emoji_count == 1]\n",
    "df2['emoji'] = df2.emoji.apply(condence_emojis)\n",
    "emoji_sentiment_mappings = df2[['emoji', 'sentiment_score']].groupby('emoji').mean()"
   ]
  },
  {
   "cell_type": "markdown",
   "metadata": {},
   "source": [
    "Compute top emoji based on its sentiment score."
   ]
  },
  {
   "cell_type": "code",
   "execution_count": 336,
   "metadata": {},
   "outputs": [],
   "source": [
    "def impute_top_emoji(posts, mappings = emoji_sentiment_mappings, data = df):\n",
    "    # Refer the emoji to the respective posts (\"tweet\")\n",
    "    # Intialize the value as the sentiment_score of the first row\n",
    "    val = df[df.emoji == posts].sentiment_score.values[0]\n",
    "    \n",
    "    # Assign posts (\"tweet\") to a list\n",
    "    posts = list(set(posts))\n",
    "    \n",
    "    # Assign a dummy value\n",
    "    closest = 100\n",
    "    \n",
    "    # Initialize the top sentiment_score\n",
    "    top = posts[0]\n",
    "    \n",
    "    for i in range(0, len(posts)):\n",
    "        try:\n",
    "            if abs(val - emoji_sentiment_mappings.loc[posts[i]].sentiment_score) < closest:\n",
    "                closest = abs(val - emoji_sentiment_mappings.loc[posts[i]].sentiment_score)\n",
    "                top = posts[i]\n",
    "        except:\n",
    "            continue\n",
    "    return top"
   ]
  },
  {
   "cell_type": "code",
   "execution_count": 337,
   "metadata": {
    "scrolled": false
   },
   "outputs": [
    {
     "name": "stderr",
     "output_type": "stream",
     "text": [
      "100%|███████████████████████████████████████████████████████████████████████████████| 440/440 [00:00<00:00, 916.67it/s]\n"
     ]
    }
   ],
   "source": [
    "df['top_emoji'] = df.emoji.progress_apply(impute_top_emoji)"
   ]
  },
  {
   "cell_type": "code",
   "execution_count": 338,
   "metadata": {},
   "outputs": [],
   "source": [
    "df.drop([\"unique_emoji_count\", \"emoji\"], axis=1, inplace=True)"
   ]
  },
  {
   "cell_type": "code",
   "execution_count": 339,
   "metadata": {},
   "outputs": [],
   "source": [
    "df.drop([\"index\"], axis=1, inplace=True)"
   ]
  },
  {
   "cell_type": "code",
   "execution_count": 340,
   "metadata": {
    "scrolled": true
   },
   "outputs": [
    {
     "data": {
      "text/html": [
       "<div>\n",
       "<style scoped>\n",
       "    .dataframe tbody tr th:only-of-type {\n",
       "        vertical-align: middle;\n",
       "    }\n",
       "\n",
       "    .dataframe tbody tr th {\n",
       "        vertical-align: top;\n",
       "    }\n",
       "\n",
       "    .dataframe thead th {\n",
       "        text-align: right;\n",
       "    }\n",
       "</style>\n",
       "<table border=\"1\" class=\"dataframe\">\n",
       "  <thead>\n",
       "    <tr style=\"text-align: right;\">\n",
       "      <th></th>\n",
       "      <th>tweet</th>\n",
       "      <th>sentiment_score</th>\n",
       "      <th>exclamation_points</th>\n",
       "      <th>top_emoji</th>\n",
       "    </tr>\n",
       "  </thead>\n",
       "  <tbody>\n",
       "    <tr>\n",
       "      <th>0</th>\n",
       "      <td></td>\n",
       "      <td>0.0000</td>\n",
       "      <td>0.0</td>\n",
       "      <td>❤</td>\n",
       "    </tr>\n",
       "    <tr>\n",
       "      <th>1</th>\n",
       "      <td>nicolas cage screaming imaginary child named f...</td>\n",
       "      <td>0.0772</td>\n",
       "      <td>0.0</td>\n",
       "      <td>📺</td>\n",
       "    </tr>\n",
       "    <tr>\n",
       "      <th>2</th>\n",
       "      <td>already</td>\n",
       "      <td>0.0000</td>\n",
       "      <td>0.0</td>\n",
       "      <td>😭</td>\n",
       "    </tr>\n",
       "    <tr>\n",
       "      <th>3</th>\n",
       "      <td>boys 3 trailer finally ready boys always forev...</td>\n",
       "      <td>0.3612</td>\n",
       "      <td>0.0</td>\n",
       "      <td>😍</td>\n",
       "    </tr>\n",
       "    <tr>\n",
       "      <th>4</th>\n",
       "      <td>already love show mean god sake lupin</td>\n",
       "      <td>0.7430</td>\n",
       "      <td>0.0</td>\n",
       "      <td>🖤</td>\n",
       "    </tr>\n",
       "    <tr>\n",
       "      <th>5</th>\n",
       "      <td>meet parineeti chopra s girl train director s ...</td>\n",
       "      <td>0.1027</td>\n",
       "      <td>0.0</td>\n",
       "      <td>🚆</td>\n",
       "    </tr>\n",
       "    <tr>\n",
       "      <th>6</th>\n",
       "      <td>puggerton</td>\n",
       "      <td>0.0000</td>\n",
       "      <td>0.0</td>\n",
       "      <td>🐝</td>\n",
       "    </tr>\n",
       "    <tr>\n",
       "      <th>7</th>\n",
       "      <td>know rakes brush regency slang cast bridgerton</td>\n",
       "      <td>0.0000</td>\n",
       "      <td>0.0</td>\n",
       "      <td>👀</td>\n",
       "    </tr>\n",
       "    <tr>\n",
       "      <th>8</th>\n",
       "      <td>set reminder tomorrow big news share</td>\n",
       "      <td>0.2960</td>\n",
       "      <td>0.0</td>\n",
       "      <td>👉</td>\n",
       "    </tr>\n",
       "    <tr>\n",
       "      <th>9</th>\n",
       "      <td>said needed riskyairlines lying chris rock tot...</td>\n",
       "      <td>-0.6705</td>\n",
       "      <td>0.0</td>\n",
       "      <td>👀</td>\n",
       "    </tr>\n",
       "  </tbody>\n",
       "</table>\n",
       "</div>"
      ],
      "text/plain": [
       "                                               tweet  sentiment_score  \\\n",
       "0                                                              0.0000   \n",
       "1  nicolas cage screaming imaginary child named f...           0.0772   \n",
       "2                                            already           0.0000   \n",
       "3  boys 3 trailer finally ready boys always forev...           0.3612   \n",
       "4              already love show mean god sake lupin           0.7430   \n",
       "5  meet parineeti chopra s girl train director s ...           0.1027   \n",
       "6                                          puggerton           0.0000   \n",
       "7     know rakes brush regency slang cast bridgerton           0.0000   \n",
       "8               set reminder tomorrow big news share           0.2960   \n",
       "9  said needed riskyairlines lying chris rock tot...          -0.6705   \n",
       "\n",
       "   exclamation_points top_emoji  \n",
       "0                 0.0         ❤  \n",
       "1                 0.0         📺  \n",
       "2                 0.0         😭  \n",
       "3                 0.0         😍  \n",
       "4                 0.0         🖤  \n",
       "5                 0.0         🚆  \n",
       "6                 0.0         🐝  \n",
       "7                 0.0         👀  \n",
       "8                 0.0         👉  \n",
       "9                 0.0         👀  "
      ]
     },
     "execution_count": 340,
     "metadata": {},
     "output_type": "execute_result"
    }
   ],
   "source": [
    "df.head(10)"
   ]
  },
  {
   "cell_type": "markdown",
   "metadata": {},
   "source": [
    "Compute the number of times or frequency of emoji has been used."
   ]
  },
  {
   "cell_type": "code",
   "execution_count": 342,
   "metadata": {},
   "outputs": [],
   "source": [
    "emoji_counts = dict(df.top_emoji.value_counts()) #key-value: emoji-count"
   ]
  },
  {
   "cell_type": "code",
   "execution_count": 343,
   "metadata": {},
   "outputs": [],
   "source": [
    "df['emoji_frequency'] = df.top_emoji.map(emoji_counts)"
   ]
  },
  {
   "cell_type": "code",
   "execution_count": 344,
   "metadata": {
    "scrolled": true
   },
   "outputs": [
    {
     "data": {
      "text/html": [
       "<div>\n",
       "<style scoped>\n",
       "    .dataframe tbody tr th:only-of-type {\n",
       "        vertical-align: middle;\n",
       "    }\n",
       "\n",
       "    .dataframe tbody tr th {\n",
       "        vertical-align: top;\n",
       "    }\n",
       "\n",
       "    .dataframe thead th {\n",
       "        text-align: right;\n",
       "    }\n",
       "</style>\n",
       "<table border=\"1\" class=\"dataframe\">\n",
       "  <thead>\n",
       "    <tr style=\"text-align: right;\">\n",
       "      <th></th>\n",
       "      <th>tweet</th>\n",
       "      <th>sentiment_score</th>\n",
       "      <th>exclamation_points</th>\n",
       "      <th>top_emoji</th>\n",
       "      <th>emoji_frequency</th>\n",
       "    </tr>\n",
       "  </thead>\n",
       "  <tbody>\n",
       "    <tr>\n",
       "      <th>0</th>\n",
       "      <td></td>\n",
       "      <td>0.0000</td>\n",
       "      <td>0.0</td>\n",
       "      <td>❤</td>\n",
       "      <td>28</td>\n",
       "    </tr>\n",
       "    <tr>\n",
       "      <th>1</th>\n",
       "      <td>nicolas cage screaming imaginary child named f...</td>\n",
       "      <td>0.0772</td>\n",
       "      <td>0.0</td>\n",
       "      <td>📺</td>\n",
       "      <td>36</td>\n",
       "    </tr>\n",
       "    <tr>\n",
       "      <th>2</th>\n",
       "      <td>already</td>\n",
       "      <td>0.0000</td>\n",
       "      <td>0.0</td>\n",
       "      <td>😭</td>\n",
       "      <td>13</td>\n",
       "    </tr>\n",
       "    <tr>\n",
       "      <th>3</th>\n",
       "      <td>boys 3 trailer finally ready boys always forev...</td>\n",
       "      <td>0.3612</td>\n",
       "      <td>0.0</td>\n",
       "      <td>😍</td>\n",
       "      <td>12</td>\n",
       "    </tr>\n",
       "    <tr>\n",
       "      <th>4</th>\n",
       "      <td>already love show mean god sake lupin</td>\n",
       "      <td>0.7430</td>\n",
       "      <td>0.0</td>\n",
       "      <td>🖤</td>\n",
       "      <td>10</td>\n",
       "    </tr>\n",
       "    <tr>\n",
       "      <th>5</th>\n",
       "      <td>meet parineeti chopra s girl train director s ...</td>\n",
       "      <td>0.1027</td>\n",
       "      <td>0.0</td>\n",
       "      <td>🚆</td>\n",
       "      <td>1</td>\n",
       "    </tr>\n",
       "    <tr>\n",
       "      <th>6</th>\n",
       "      <td>puggerton</td>\n",
       "      <td>0.0000</td>\n",
       "      <td>0.0</td>\n",
       "      <td>🐝</td>\n",
       "      <td>1</td>\n",
       "    </tr>\n",
       "    <tr>\n",
       "      <th>7</th>\n",
       "      <td>know rakes brush regency slang cast bridgerton</td>\n",
       "      <td>0.0000</td>\n",
       "      <td>0.0</td>\n",
       "      <td>👀</td>\n",
       "      <td>11</td>\n",
       "    </tr>\n",
       "    <tr>\n",
       "      <th>8</th>\n",
       "      <td>set reminder tomorrow big news share</td>\n",
       "      <td>0.2960</td>\n",
       "      <td>0.0</td>\n",
       "      <td>👉</td>\n",
       "      <td>1</td>\n",
       "    </tr>\n",
       "    <tr>\n",
       "      <th>9</th>\n",
       "      <td>said needed riskyairlines lying chris rock tot...</td>\n",
       "      <td>-0.6705</td>\n",
       "      <td>0.0</td>\n",
       "      <td>👀</td>\n",
       "      <td>11</td>\n",
       "    </tr>\n",
       "  </tbody>\n",
       "</table>\n",
       "</div>"
      ],
      "text/plain": [
       "                                               tweet  sentiment_score  \\\n",
       "0                                                              0.0000   \n",
       "1  nicolas cage screaming imaginary child named f...           0.0772   \n",
       "2                                            already           0.0000   \n",
       "3  boys 3 trailer finally ready boys always forev...           0.3612   \n",
       "4              already love show mean god sake lupin           0.7430   \n",
       "5  meet parineeti chopra s girl train director s ...           0.1027   \n",
       "6                                          puggerton           0.0000   \n",
       "7     know rakes brush regency slang cast bridgerton           0.0000   \n",
       "8               set reminder tomorrow big news share           0.2960   \n",
       "9  said needed riskyairlines lying chris rock tot...          -0.6705   \n",
       "\n",
       "   exclamation_points top_emoji  emoji_frequency  \n",
       "0                 0.0         ❤               28  \n",
       "1                 0.0         📺               36  \n",
       "2                 0.0         😭               13  \n",
       "3                 0.0         😍               12  \n",
       "4                 0.0         🖤               10  \n",
       "5                 0.0         🚆                1  \n",
       "6                 0.0         🐝                1  \n",
       "7                 0.0         👀               11  \n",
       "8                 0.0         👉                1  \n",
       "9                 0.0         👀               11  "
      ]
     },
     "execution_count": 344,
     "metadata": {},
     "output_type": "execute_result"
    }
   ],
   "source": [
    "df.head(10)"
   ]
  },
  {
   "cell_type": "markdown",
   "metadata": {},
   "source": [
    "Save the data."
   ]
  },
  {
   "cell_type": "code",
   "execution_count": 345,
   "metadata": {},
   "outputs": [],
   "source": [
    "df.to_csv(\"emoji sentiment.csv\")"
   ]
  },
  {
   "cell_type": "markdown",
   "metadata": {},
   "source": [
    "Plot sentiment score for an overview."
   ]
  },
  {
   "cell_type": "code",
   "execution_count": 346,
   "metadata": {},
   "outputs": [],
   "source": [
    "import seaborn as sns"
   ]
  },
  {
   "cell_type": "code",
   "execution_count": 347,
   "metadata": {
    "scrolled": true
   },
   "outputs": [
    {
     "data": {
      "text/plain": [
       "<matplotlib.axes._subplots.AxesSubplot at 0x1425fa60>"
      ]
     },
     "execution_count": 347,
     "metadata": {},
     "output_type": "execute_result"
    },
    {
     "data": {
      "image/png": "[encoded data removed]",
      "text/plain": [
       "<Figure size 432x288 with 1 Axes>"
      ]
     },
     "metadata": {},
     "output_type": "display_data"
    }
   ],
   "source": [
    "sns.histplot(df.sentiment_score)"
   ]
  },
  {
   "cell_type": "markdown",
   "metadata": {},
   "source": [
    "Potray sentiment score overview."
   ]
  },
  {
   "cell_type": "code",
   "execution_count": 349,
   "metadata": {
    "scrolled": true
   },
   "outputs": [
    {
     "name": "stdout",
     "output_type": "stream",
     "text": [
      "Sentiments for chill\n",
      "0.16259722222222223\n",
      "----------------------\n",
      "Sentiments for sad\n",
      "nan\n",
      "0.296\n",
      "nan\n",
      "nan\n",
      "nan\n",
      "nan\n",
      "nan\n",
      "nan\n",
      "nan\n",
      "0.11638461538461538\n",
      "----------------------\n",
      "Sentiments for fearful\n",
      "0.0\n",
      "nan\n",
      "nan\n",
      "----------------------\n",
      "Sentiments for angry\n",
      "nan\n",
      "nan\n",
      "nan\n",
      "----------------------\n",
      "Sentiments for happy\n",
      "nan\n",
      "0.4588\n",
      "0.2732\n",
      "-0.5574\n",
      "nan\n",
      "nan\n",
      "0.6369\n",
      "0.2903857142857143\n",
      "0.07771666666666664\n",
      "0.3237076923076923\n",
      "0.5691333333333334\n",
      "----------------------\n",
      "Sentiments for excited\n",
      "-0.09379090909090909\n",
      "0.3056083333333333\n",
      "nan\n",
      "nan\n",
      "0.142575\n",
      "----------------------\n",
      "Sentiments for annoyed\n",
      "nan\n",
      "nan\n"
     ]
    }
   ],
   "source": [
    "print(\"Sentiments for chill\")\n",
    "for i in range(0,len(chill)):\n",
    "    print(df[df.top_emoji==chill[i]].sentiment_score.mean())\n",
    "print(\"----------------------\")\n",
    "print(\"Sentiments for sad\")\n",
    "for i in range(0,len(sad)):\n",
    "    print(df[df.top_emoji==sad[i]].sentiment_score.mean())\n",
    "print(\"----------------------\")\n",
    "print(\"Sentiments for fearful\")\n",
    "for i in range(0,len(fearful)):\n",
    "    print(df[df.top_emoji==fearful[i]].sentiment_score.mean())\n",
    "print(\"----------------------\")\n",
    "print(\"Sentiments for angry\")\n",
    "for i in range(0,len(angry)):\n",
    "    print(df[df.top_emoji==angry[i]].sentiment_score.mean())\n",
    "print(\"----------------------\")\n",
    "print(\"Sentiments for happy\")\n",
    "for i in range(0,len(happy)):\n",
    "    print(df[df.top_emoji==happy[i]].sentiment_score.mean())\n",
    "print(\"----------------------\")\n",
    "print(\"Sentiments for excited\")\n",
    "for i in range(0,len(excited)):\n",
    "    print(df[df.top_emoji==excited[i]].sentiment_score.mean()) \n",
    "print(\"----------------------\")\n",
    "print(\"Sentiments for annoyed\")\n",
    "for i in range(0,len(annoyed)):\n",
    "    print(df[df.top_emoji==annoyed[i]].sentiment_score.mean())"
   ]
  },
  {
   "cell_type": "markdown",
   "metadata": {},
   "source": [
    "Filter emoji based on the defined expressions."
   ]
  },
  {
   "cell_type": "code",
   "execution_count": 350,
   "metadata": {},
   "outputs": [],
   "source": [
    "all_e = chill + sad + fearful + angry + happy + excited + annoyed"
   ]
  },
  {
   "cell_type": "code",
   "execution_count": 351,
   "metadata": {},
   "outputs": [],
   "source": [
    "new_df = df[df.top_emoji.isin(all_e)]"
   ]
  },
  {
   "cell_type": "markdown",
   "metadata": {},
   "source": [
    "Create a dictionary for defined emoji-expression and its count to be assigned to exsiting \"emoji_frequency\" column."
   ]
  },
  {
   "cell_type": "code",
   "execution_count": 352,
   "metadata": {},
   "outputs": [],
   "source": [
    "conditions = [\n",
    "    new_df.top_emoji.isin(chill[1:]),\n",
    "    new_df.top_emoji.isin(sad[1:]),\n",
    "    new_df.top_emoji.isin(fearful[1:]),\n",
    "    new_df.top_emoji.isin(angry[1:]),\n",
    "    new_df.top_emoji.isin(happy[1:]),\n",
    "    new_df.top_emoji.isin(excited[1:]),\n",
    "    new_df.top_emoji.isin(annoyed[1:])\n",
    "    \n",
    "]\n",
    "\n",
    "choices = [\n",
    "    chill[0],\n",
    "    sad[0],\n",
    "    fearful[0],\n",
    "    angry[0], \n",
    "    happy[0],\n",
    "    excited[0],\n",
    "    annoyed[0]\n",
    "]\n",
    "\n",
    "new_df.top_emoji = np.select(conditions, choices, default = new_df.top_emoji)"
   ]
  },
  {
   "cell_type": "code",
   "execution_count": 353,
   "metadata": {},
   "outputs": [
    {
     "data": {
      "text/plain": [
       "😊    66\n",
       "👀    39\n",
       "📺    36\n",
       "😩    14\n",
       "😱     2\n",
       "Name: top_emoji, dtype: int64"
      ]
     },
     "execution_count": 353,
     "metadata": {},
     "output_type": "execute_result"
    }
   ],
   "source": [
    "new_df.top_emoji.value_counts()"
   ]
  },
  {
   "cell_type": "code",
   "execution_count": 354,
   "metadata": {},
   "outputs": [],
   "source": [
    "new_df.drop('emoji_frequency', axis=1, inplace=True)\n",
    "freq_map = dict(new_df.top_emoji.value_counts())\n",
    "new_df['emoji_frequency'] = new_df.top_emoji.map(freq_map)\n",
    "\n",
    "new_df.to_csv(\"tweets_4_classes.csv\")"
   ]
  },
  {
   "cell_type": "code",
   "execution_count": 355,
   "metadata": {},
   "outputs": [],
   "source": [
    "emojis = new_df.groupby('top_emoji').mean()\n",
    "emojis.to_csv(\"emojis_NEW.csv\")"
   ]
  },
  {
   "cell_type": "code",
   "execution_count": 356,
   "metadata": {},
   "outputs": [
    {
     "data": {
      "text/html": [
       "<div>\n",
       "<style scoped>\n",
       "    .dataframe tbody tr th:only-of-type {\n",
       "        vertical-align: middle;\n",
       "    }\n",
       "\n",
       "    .dataframe tbody tr th {\n",
       "        vertical-align: top;\n",
       "    }\n",
       "\n",
       "    .dataframe thead th {\n",
       "        text-align: right;\n",
       "    }\n",
       "</style>\n",
       "<table border=\"1\" class=\"dataframe\">\n",
       "  <thead>\n",
       "    <tr style=\"text-align: right;\">\n",
       "      <th></th>\n",
       "      <th>sentiment_score</th>\n",
       "      <th>exclamation_points</th>\n",
       "      <th>emoji_frequency</th>\n",
       "    </tr>\n",
       "    <tr>\n",
       "      <th>top_emoji</th>\n",
       "      <th></th>\n",
       "      <th></th>\n",
       "      <th></th>\n",
       "    </tr>\n",
       "  </thead>\n",
       "  <tbody>\n",
       "    <tr>\n",
       "      <th>👀</th>\n",
       "      <td>0.126072</td>\n",
       "      <td>0.0</td>\n",
       "      <td>39</td>\n",
       "    </tr>\n",
       "    <tr>\n",
       "      <th>📺</th>\n",
       "      <td>0.162597</td>\n",
       "      <td>0.0</td>\n",
       "      <td>36</td>\n",
       "    </tr>\n",
       "    <tr>\n",
       "      <th>😊</th>\n",
       "      <td>0.290989</td>\n",
       "      <td>0.0</td>\n",
       "      <td>66</td>\n",
       "    </tr>\n",
       "    <tr>\n",
       "      <th>😩</th>\n",
       "      <td>0.129214</td>\n",
       "      <td>0.0</td>\n",
       "      <td>14</td>\n",
       "    </tr>\n",
       "    <tr>\n",
       "      <th>😱</th>\n",
       "      <td>0.000000</td>\n",
       "      <td>0.0</td>\n",
       "      <td>2</td>\n",
       "    </tr>\n",
       "  </tbody>\n",
       "</table>\n",
       "</div>"
      ],
      "text/plain": [
       "           sentiment_score  exclamation_points  emoji_frequency\n",
       "top_emoji                                                      \n",
       "👀                 0.126072                 0.0               39\n",
       "📺                 0.162597                 0.0               36\n",
       "😊                 0.290989                 0.0               66\n",
       "😩                 0.129214                 0.0               14\n",
       "😱                 0.000000                 0.0                2"
      ]
     },
     "execution_count": 356,
     "metadata": {},
     "output_type": "execute_result"
    }
   ],
   "source": [
    "emojis"
   ]
  },
  {
   "cell_type": "markdown",
   "metadata": {},
   "source": [
    "### 3. Data Exploration and Visualization"
   ]
  },
  {
   "cell_type": "markdown",
   "metadata": {},
   "source": [
    "#### Emoji Comparison"
   ]
  },
  {
   "cell_type": "markdown",
   "metadata": {},
   "source": [
    "Plot the emoji according to its count and sentiment score."
   ]
  },
  {
   "cell_type": "code",
   "execution_count": 357,
   "metadata": {},
   "outputs": [],
   "source": [
    "# Download emoji.png\n",
    "pics = [\"image/excited.png\", \"image/chill.png\", \"image/happy.png\", \"image/sad.png\", \"image/fearful.png\"]"
   ]
  },
  {
   "cell_type": "code",
   "execution_count": 358,
   "metadata": {},
   "outputs": [],
   "source": [
    "import matplotlib.pyplot as plt\n",
    "from matplotlib.offsetbox import OffsetImage, AnnotationBbox"
   ]
  },
  {
   "cell_type": "code",
   "execution_count": 359,
   "metadata": {},
   "outputs": [],
   "source": [
    "def getImage(path):\n",
    "    return OffsetImage(plt.imread(path, 0))"
   ]
  },
  {
   "cell_type": "code",
   "execution_count": 360,
   "metadata": {
    "scrolled": true
   },
   "outputs": [
    {
     "data": {
      "image/png": "[encoded data removed]",
      "text/plain": [
       "<Figure size 432x288 with 1 Axes>"
      ]
     },
     "metadata": {},
     "output_type": "display_data"
    }
   ],
   "source": [
    "fig, ax = plt.subplots(figsize = (6,4))\n",
    "\n",
    "sns.scatterplot(x=emojis.sentiment_score, y=emojis.emoji_frequency, ax=ax)\n",
    "sns.set_style(\"whitegrid\")\n",
    "plt.xticks(fontsize=12)\n",
    "plt.xlabel('sentiment', fontsize=16)\n",
    "plt.yticks(fontsize=12)\n",
    "plt.ylabel('emoji count', fontsize=16)\n",
    "plt.title(\"Emoji Count and Sentiment\", fontsize = 20)\n",
    "\n",
    "for x0, y0, pic in zip(emojis.sentiment_score, emojis.emoji_frequency,pics):\n",
    "    ab = AnnotationBbox(getImage(pic), (x0, y0), frameon=False)\n",
    "    ax.add_artist(ab)\n",
    "plt.savefig('image/emoji_count_and_sentiment.png')\n",
    "plt.show()"
   ]
  },
  {
   "cell_type": "markdown",
   "metadata": {},
   "source": [
    "Compute the subjectivity of the tweet based on the top emoji (in new_df)."
   ]
  },
  {
   "cell_type": "code",
   "execution_count": 361,
   "metadata": {},
   "outputs": [],
   "source": [
    "def get_subjectivity(posts):\n",
    "    b = TextBlob(posts)\n",
    "    return b.sentiment.subjectivity"
   ]
  },
  {
   "cell_type": "code",
   "execution_count": 362,
   "metadata": {},
   "outputs": [
    {
     "name": "stderr",
     "output_type": "stream",
     "text": [
      "100%|██████████████████████████████████████████████████████████████████████████████| 157/157 [00:00<00:00, 1097.90it/s]\n"
     ]
    }
   ],
   "source": [
    "new_df['subjectivity'] = new_df.tweet.progress_apply(get_subjectivity)"
   ]
  },
  {
   "cell_type": "code",
   "execution_count": 363,
   "metadata": {},
   "outputs": [],
   "source": [
    "emoji_counts = dict(new_df.top_emoji.value_counts())"
   ]
  },
  {
   "cell_type": "code",
   "execution_count": 364,
   "metadata": {},
   "outputs": [],
   "source": [
    "new_df['emoji_frequency'] = new_df.top_emoji.map(emoji_counts)"
   ]
  },
  {
   "cell_type": "code",
   "execution_count": 365,
   "metadata": {
    "scrolled": true
   },
   "outputs": [
    {
     "data": {
      "text/html": [
       "<div>\n",
       "<style scoped>\n",
       "    .dataframe tbody tr th:only-of-type {\n",
       "        vertical-align: middle;\n",
       "    }\n",
       "\n",
       "    .dataframe tbody tr th {\n",
       "        vertical-align: top;\n",
       "    }\n",
       "\n",
       "    .dataframe thead th {\n",
       "        text-align: right;\n",
       "    }\n",
       "</style>\n",
       "<table border=\"1\" class=\"dataframe\">\n",
       "  <thead>\n",
       "    <tr style=\"text-align: right;\">\n",
       "      <th></th>\n",
       "      <th>tweet</th>\n",
       "      <th>sentiment_score</th>\n",
       "      <th>exclamation_points</th>\n",
       "      <th>top_emoji</th>\n",
       "      <th>emoji_frequency</th>\n",
       "      <th>subjectivity</th>\n",
       "    </tr>\n",
       "  </thead>\n",
       "  <tbody>\n",
       "    <tr>\n",
       "      <th>0</th>\n",
       "      <td></td>\n",
       "      <td>0.0000</td>\n",
       "      <td>0.0</td>\n",
       "      <td>😊</td>\n",
       "      <td>66</td>\n",
       "      <td>0.000000</td>\n",
       "    </tr>\n",
       "    <tr>\n",
       "      <th>1</th>\n",
       "      <td>nicolas cage screaming imaginary child named f...</td>\n",
       "      <td>0.0772</td>\n",
       "      <td>0.0</td>\n",
       "      <td>📺</td>\n",
       "      <td>36</td>\n",
       "      <td>0.000000</td>\n",
       "    </tr>\n",
       "    <tr>\n",
       "      <th>2</th>\n",
       "      <td>already</td>\n",
       "      <td>0.0000</td>\n",
       "      <td>0.0</td>\n",
       "      <td>😩</td>\n",
       "      <td>14</td>\n",
       "      <td>0.000000</td>\n",
       "    </tr>\n",
       "    <tr>\n",
       "      <th>3</th>\n",
       "      <td>boys 3 trailer finally ready boys always forev...</td>\n",
       "      <td>0.3612</td>\n",
       "      <td>0.0</td>\n",
       "      <td>👀</td>\n",
       "      <td>39</td>\n",
       "      <td>0.500000</td>\n",
       "    </tr>\n",
       "    <tr>\n",
       "      <th>7</th>\n",
       "      <td>know rakes brush regency slang cast bridgerton</td>\n",
       "      <td>0.0000</td>\n",
       "      <td>0.0</td>\n",
       "      <td>👀</td>\n",
       "      <td>39</td>\n",
       "      <td>0.000000</td>\n",
       "    </tr>\n",
       "    <tr>\n",
       "      <th>9</th>\n",
       "      <td>said needed riskyairlines lying chris rock tot...</td>\n",
       "      <td>-0.6705</td>\n",
       "      <td>0.0</td>\n",
       "      <td>👀</td>\n",
       "      <td>39</td>\n",
       "      <td>0.750000</td>\n",
       "    </tr>\n",
       "    <tr>\n",
       "      <th>10</th>\n",
       "      <td>amanda larusso exactly kind smart strong carin...</td>\n",
       "      <td>0.9325</td>\n",
       "      <td>0.0</td>\n",
       "      <td>📺</td>\n",
       "      <td>36</td>\n",
       "      <td>0.631548</td>\n",
       "    </tr>\n",
       "    <tr>\n",
       "      <th>22</th>\n",
       "      <td>one regé jean page bridgerton</td>\n",
       "      <td>0.0000</td>\n",
       "      <td>0.0</td>\n",
       "      <td>👀</td>\n",
       "      <td>39</td>\n",
       "      <td>0.000000</td>\n",
       "    </tr>\n",
       "    <tr>\n",
       "      <th>23</th>\n",
       "      <td></td>\n",
       "      <td>0.0000</td>\n",
       "      <td>0.0</td>\n",
       "      <td>😊</td>\n",
       "      <td>66</td>\n",
       "      <td>0.000000</td>\n",
       "    </tr>\n",
       "    <tr>\n",
       "      <th>24</th>\n",
       "      <td></td>\n",
       "      <td>0.0000</td>\n",
       "      <td>0.0</td>\n",
       "      <td>👀</td>\n",
       "      <td>39</td>\n",
       "      <td>0.000000</td>\n",
       "    </tr>\n",
       "  </tbody>\n",
       "</table>\n",
       "</div>"
      ],
      "text/plain": [
       "                                                tweet  sentiment_score  \\\n",
       "0                                                               0.0000   \n",
       "1   nicolas cage screaming imaginary child named f...           0.0772   \n",
       "2                                             already           0.0000   \n",
       "3   boys 3 trailer finally ready boys always forev...           0.3612   \n",
       "7      know rakes brush regency slang cast bridgerton           0.0000   \n",
       "9   said needed riskyairlines lying chris rock tot...          -0.6705   \n",
       "10  amanda larusso exactly kind smart strong carin...           0.9325   \n",
       "22                      one regé jean page bridgerton           0.0000   \n",
       "23                                                              0.0000   \n",
       "24                                                              0.0000   \n",
       "\n",
       "    exclamation_points top_emoji  emoji_frequency  subjectivity  \n",
       "0                  0.0         😊               66      0.000000  \n",
       "1                  0.0         📺               36      0.000000  \n",
       "2                  0.0         😩               14      0.000000  \n",
       "3                  0.0         👀               39      0.500000  \n",
       "7                  0.0         👀               39      0.000000  \n",
       "9                  0.0         👀               39      0.750000  \n",
       "10                 0.0         📺               36      0.631548  \n",
       "22                 0.0         👀               39      0.000000  \n",
       "23                 0.0         😊               66      0.000000  \n",
       "24                 0.0         👀               39      0.000000  "
      ]
     },
     "execution_count": 365,
     "metadata": {},
     "output_type": "execute_result"
    }
   ],
   "source": [
    "new_df.head(10)"
   ]
  },
  {
   "cell_type": "markdown",
   "metadata": {},
   "source": [
    "Create wordcloud from the emoji's expressions."
   ]
  },
  {
   "cell_type": "code",
   "execution_count": 366,
   "metadata": {},
   "outputs": [],
   "source": [
    "from nltk.probability import FreqDist"
   ]
  },
  {
   "cell_type": "code",
   "execution_count": 370,
   "metadata": {},
   "outputs": [],
   "source": [
    "def make_word_cloud(new_df, emoji, emoji_expression):\n",
    "    df_freq = new_df[new_df['top_emoji']==emoji]\n",
    "    data = df_freq['tweet']\n",
    "    processed = list(map(preprocessing, data))\n",
    "    \n",
    "    #flat = [item.split() for item in processed]- the data were already in list\n",
    "    flat_2 = []\n",
    "    for row in processed:\n",
    "        for word in row:\n",
    "            flat_2.append(word)\n",
    "    freq = FreqDist(flat_2)\n",
    "    \n",
    "    # Top 40 most common words\n",
    "    bar_counts = [x[1] for x in freq.most_common(40)]\n",
    "    bar_words = [x[0] for x in freq.most_common(40)]\n",
    "    \n",
    "    dictionary = dict(zip(bar_words, bar_counts))\n",
    "    \n",
    "    # Create the word cloud:\n",
    "    wordcloud = WordCloud(colormap='Spectral').generate_from_frequencies(dictionary)\n",
    "    # Display the generated image w/ matplotlib:\n",
    "    plt.figure(figsize=(6,6), facecolor='k')\n",
    "    plt.imshow(wordcloud, interpolation='bilinear')\n",
    "    plt.axis(\"off\")\n",
    "    plt.tight_layout(pad=0)\n",
    "    \n",
    "    plt.show()"
   ]
  },
  {
   "cell_type": "code",
   "execution_count": 371,
   "metadata": {
    "scrolled": true
   },
   "outputs": [
    {
     "data": {
      "image/png": "[encoded data removed]",
      "text/plain": [
       "<Figure size 432x432 with 1 Axes>"
      ]
     },
     "metadata": {},
     "output_type": "display_data"
    }
   ],
   "source": [
    "make_word_cloud(new_df, '📺', 'chill')"
   ]
  },
  {
   "cell_type": "code",
   "execution_count": 372,
   "metadata": {},
   "outputs": [
    {
     "name": "stdout",
     "output_type": "stream",
     "text": [
      "nicolas cage screaming imaginary child named fucklyn truly something must witness history s\n",
      "-----------------------------------------------------------------------------------------------------\n",
      "amanda larusso exactly kind smart strong caring badass daniel would married cobra kai\n",
      "-----------------------------------------------------------------------------------------------------\n",
      "problem bridgerton\n",
      "-----------------------------------------------------------------------------------------------------\n",
      "cobra kai star mary mouser unique rule comes on screen kisses netflix afterparty\n",
      "-----------------------------------------------------------------------------------------------------\n",
      "love queen loves gossip\n",
      "-----------------------------------------------------------------------------------------------------\n",
      "selling sunset s secret weapon revealed netflix afterparty\n",
      "-----------------------------------------------------------------------------------------------------\n",
      "think agree arón piper mess leave behind\n",
      "-----------------------------------------------------------------------------------------------------\n",
      "stand said netflix afterparty\n",
      "-----------------------------------------------------------------------------------------------------\n",
      "can t unsee selena series schitt s creek\n",
      "-----------------------------------------------------------------------------------------------------\n",
      "welcome sagittarius szn survivor\n",
      "-----------------------------------------------------------------------------------------------------\n",
      "welcome gorgeous artistic truly dazzling world fantasy hair competitions champions\n",
      "-----------------------------------------------------------------------------------------------------\n",
      "new life s motto the queen s gambit\n",
      "-----------------------------------------------------------------------------------------------------\n",
      "m feeling attacked right dash amp lily\n",
      "-----------------------------------------------------------------------------------------------------\n",
      "s voting went privilege right whose vote counts explained\n",
      "-----------------------------------------------------------------------------------------------------\n",
      "really la thing ghost say julie phantoms\n",
      "-----------------------------------------------------------------------------------------------------\n",
      "finally home makeover show honesty dream home makeover\n",
      "-----------------------------------------------------------------------------------------------------\n",
      "annie murphy catherine o hara iconic 60 seconds schitt s creek\n",
      "-----------------------------------------------------------------------------------------------------\n",
      "psa sign boys eww deaf\n",
      "-----------------------------------------------------------------------------------------------------\n",
      "michael stipe explains origins losing religion song exploder\n",
      "-----------------------------------------------------------------------------------------------------\n",
      "gillian anderson range hair crown sex education hannibal\n",
      "-----------------------------------------------------------------------------------------------------\n",
      "watch reese witherspoon slip legally blonde costume slip back talking like elle woods get org\n",
      "-----------------------------------------------------------------------------------------------------\n",
      "know growth cobra kai\n",
      "-----------------------------------------------------------------------------------------------------\n",
      "re reminded totally different person first plant teenage bounty hunters\n",
      "-----------------------------------------------------------------------------------------------------\n",
      "father recounts happened separated son border immigration nation\n",
      "-----------------------------------------------------------------------------------------------------\n",
      "moment waitress selling sunset\n",
      "-----------------------------------------------------------------------------------------------------\n",
      "can t stop thinking marine description taking mdma ptsd business drugs\n",
      "-----------------------------------------------------------------------------------------------------\n",
      "important question wash chicken last chance laney\n",
      "-----------------------------------------------------------------------------------------------------\n",
      "nadia must protected costs indian matchmaking\n",
      "-----------------------------------------------------------------------------------------------------\n",
      "someone calls witch say thank baby sitters club\n",
      "-----------------------------------------------------------------------------------------------------\n",
      "posting clip zac efron getting steam healing treatment completely educational purposes e\n",
      "-----------------------------------------------------------------------------------------------------\n",
      "look soulmate walk aisle say\n",
      "-----------------------------------------------------------------------------------------------------\n",
      "got one lamest excuses woman ever heard stood indian matchmaking\n",
      "-----------------------------------------------------------------------------------------------------\n",
      "much relate vittoria sardinian bread maker knows likes earth zac ef\n",
      "-----------------------------------------------------------------------------------------------------\n",
      "apple cake crazy delicious\n",
      "-----------------------------------------------------------------------------------------------------\n",
      "could us wear mask warrior nun\n",
      "-----------------------------------------------------------------------------------------------------\n",
      "may first date good dating around\n",
      "-----------------------------------------------------------------------------------------------------\n"
     ]
    }
   ],
   "source": [
    "for item in new_df[new_df.top_emoji == '📺'].tweet:\n",
    "    print(item)\n",
    "    print('-----------------------------------------------------------------------------------------------------')"
   ]
  },
  {
   "cell_type": "code",
   "execution_count": 373,
   "metadata": {
    "scrolled": true
   },
   "outputs": [
    {
     "data": {
      "image/png": "[encoded data removed]",
      "text/plain": [
       "<Figure size 432x432 with 1 Axes>"
      ]
     },
     "metadata": {},
     "output_type": "display_data"
    }
   ],
   "source": [
    "make_word_cloud(new_df, '😩', 'sad')"
   ]
  },
  {
   "cell_type": "code",
   "execution_count": 374,
   "metadata": {
    "scrolled": true
   },
   "outputs": [
    {
     "name": "stdout",
     "output_type": "stream",
     "text": [
      "already\n",
      "-----------------------------------------------------------------------------------------------------\n",
      "chadwick boseman legit learned play trumpet role rainey s black bottom acting genius ht\n",
      "-----------------------------------------------------------------------------------------------------\n",
      "crying crying\n",
      "-----------------------------------------------------------------------------------------------------\n",
      "care much s beautiful virginriver\n",
      "-----------------------------------------------------------------------------------------------------\n",
      "ok final blackpink deleted scene know would give million could find s r\n",
      "-----------------------------------------------------------------------------------------------------\n",
      "watched altar dead aka hannah grose episode blymanor may never emotionally recover give a\n",
      "-----------------------------------------------------------------------------------------------------\n",
      "omfg give t nia miller emmys thehauntingofblymanor blymanor blymanorwatchparty\n",
      "-----------------------------------------------------------------------------------------------------\n",
      "spoilers but can hug go\n",
      "-----------------------------------------------------------------------------------------------------\n",
      "episode babysittersclub bailey telling doctor amp nurse looked chart\n",
      "-----------------------------------------------------------------------------------------------------\n",
      "episode emotional scene wrecks everything beautiful neverknewlove\n",
      "-----------------------------------------------------------------------------------------------------\n",
      "\n",
      "-----------------------------------------------------------------------------------------------------\n",
      "\n",
      "-----------------------------------------------------------------------------------------------------\n",
      "favorite paof doc elders pouring michelle watchbecoming\n",
      "-----------------------------------------------------------------------------------------------------\n",
      "seeing spelman sisters dialogue watchbecoming\n",
      "-----------------------------------------------------------------------------------------------------\n"
     ]
    }
   ],
   "source": [
    "for item in new_df[new_df.top_emoji == '😩'].tweet:\n",
    "    print(item)\n",
    "    print('-----------------------------------------------------------------------------------------------------')"
   ]
  },
  {
   "cell_type": "code",
   "execution_count": 375,
   "metadata": {
    "scrolled": false
   },
   "outputs": [
    {
     "data": {
      "image/png": "[encoded data removed]",
      "text/plain": [
       "<Figure size 432x432 with 1 Axes>"
      ]
     },
     "metadata": {},
     "output_type": "display_data"
    }
   ],
   "source": [
    "make_word_cloud(new_df, '👀', 'excited')"
   ]
  },
  {
   "cell_type": "code",
   "execution_count": 376,
   "metadata": {
    "scrolled": true
   },
   "outputs": [
    {
     "name": "stdout",
     "output_type": "stream",
     "text": [
      "boys 3 trailer finally ready boys always forever premieres\n",
      "-----------------------------------------------------------------------------------------------------\n",
      "know rakes brush regency slang cast bridgerton\n",
      "-----------------------------------------------------------------------------------------------------\n",
      "said needed riskyairlines lying chris rock total blackout tamborine extended cut d\n",
      "-----------------------------------------------------------------------------------------------------\n",
      "one regé jean page bridgerton\n",
      "-----------------------------------------------------------------------------------------------------\n",
      "\n",
      "-----------------------------------------------------------------------------------------------------\n",
      "phoebedynevor bridgerton\n",
      "-----------------------------------------------------------------------------------------------------\n",
      "hey thanks bridgerton love\n",
      "-----------------------------------------------------------------------------------------------------\n",
      "\n",
      "-----------------------------------------------------------------------------------------------------\n",
      "\n",
      "-----------------------------------------------------------------------------------------------------\n",
      "first look life set sex education s3 tanya lou reynolds aka lily\n",
      "-----------------------------------------------------------------------------------------------------\n",
      "master none thanksgiving episode forever masterpiece deserved emmy\n",
      "-----------------------------------------------------------------------------------------------------\n",
      "beth harmon swaps chess guess thequeensgambit\n",
      "-----------------------------------------------------------------------------------------------------\n",
      "never stay mad\n",
      "-----------------------------------------------------------------------------------------------------\n",
      "cast odley jean things next listen talk landed role dominque\n",
      "-----------------------------------------------------------------------------------------------------\n",
      "s first look selena series plays pete astudillo los bad boys singer who\n",
      "-----------------------------------------------------------------------------------------------------\n",
      "\n",
      "-----------------------------------------------------------------------------------------------------\n",
      "friendly reminder stan lizzo house and knowing worth speaking truth is\n",
      "-----------------------------------------------------------------------------------------------------\n",
      "\n",
      "-----------------------------------------------------------------------------------------------------\n",
      "much loving emily paris muuuuuch lily collins perfect role emilyinparis\n",
      "-----------------------------------------------------------------------------------------------------\n",
      "n t know actually hungry rn bbq bae sauce americanbbqshowdown\n",
      "-----------------------------------------------------------------------------------------------------\n",
      "something coming\n",
      "-----------------------------------------------------------------------------------------------------\n",
      "something coming\n",
      "-----------------------------------------------------------------------------------------------------\n",
      "\n",
      "-----------------------------------------------------------------------------------------------------\n",
      "awaynetflix amazing everyone watch asap tears literally every episode well done\n",
      "-----------------------------------------------------------------------------------------------------\n",
      "ratched\n",
      "-----------------------------------------------------------------------------------------------------\n",
      "kids loving sistersisteronnetflix\n",
      "-----------------------------------------------------------------------------------------------------\n",
      "the duke sussex founder invictus games risingphoenix\n",
      "-----------------------------------------------------------------------------------------------------\n",
      "even casually reciting iconic lines talent jumps projectpower\n",
      "-----------------------------------------------------------------------------------------------------\n",
      "watch killed\n",
      "-----------------------------------------------------------------------------------------------------\n",
      "look allison main muse umbrellaacademy\n",
      "-----------------------------------------------------------------------------------------------------\n",
      "morgana lgbt icon cursednetflix win us dream cursed cursedspo\n",
      "-----------------------------------------------------------------------------------------------------\n",
      "look fierce ava sword warriornun\n",
      "-----------------------------------------------------------------------------------------------------\n",
      "found ships time machine\n",
      "-----------------------------------------------------------------------------------------------------\n",
      "\n",
      "-----------------------------------------------------------------------------------------------------\n",
      "elizabeth cervantes powerful watchbecoming\n",
      "-----------------------------------------------------------------------------------------------------\n",
      "connection jen judy deadtome2 deadtome\n",
      "-----------------------------------------------------------------------------------------------------\n",
      "started watching outer banks 10 10\n",
      "-----------------------------------------------------------------------------------------------------\n",
      "trio hollywoodnetflix\n",
      "-----------------------------------------------------------------------------------------------------\n",
      "facts\n",
      "-----------------------------------------------------------------------------------------------------\n"
     ]
    }
   ],
   "source": [
    "for item in new_df[new_df.top_emoji == '👀'].tweet:\n",
    "    print(item)\n",
    "    print('-----------------------------------------------------------------------------------------------------')"
   ]
  },
  {
   "cell_type": "markdown",
   "metadata": {},
   "source": [
    "#### Sentiment Analysis"
   ]
  },
  {
   "cell_type": "code",
   "execution_count": 381,
   "metadata": {},
   "outputs": [
    {
     "data": {
      "text/plain": [
       "top_emoji\n",
       "👀    0.126072\n",
       "📺    0.162597\n",
       "😊    0.290989\n",
       "😩    0.129214\n",
       "😱    0.000000\n",
       "Name: sentiment_score, dtype: float64"
      ]
     },
     "execution_count": 381,
     "metadata": {},
     "output_type": "execute_result"
    }
   ],
   "source": [
    "new_df.groupby('top_emoji').mean().sentiment_score"
   ]
  },
  {
   "cell_type": "code",
   "execution_count": 382,
   "metadata": {
    "scrolled": true
   },
   "outputs": [
    {
     "data": {
      "image/png": "[encoded data removed]",
      "text/plain": [
       "<Figure size 1152x360 with 5 Axes>"
      ]
     },
     "metadata": {},
     "output_type": "display_data"
    }
   ],
   "source": [
    "fig, axes = plt.subplots(nrows=1, ncols=5, figsize=(16,5), sharey=True, )\n",
    "titles = ['Excited', 'Chill', 'Happy', 'Sad', 'Scared']\n",
    "\n",
    "# Plot the mean of sentiment score\n",
    "for i, emoji in enumerate(new_df.groupby('top_emoji').mean().sentiment_score.index):\n",
    "    sns.violinplot(y=new_df[new_df.top_emoji==emoji].sentiment_score, ax=axes[i])\n",
    "    val = new_df[new_df.top_emoji == emoji].sentiment_score.mean()\n",
    "    axes[i].set_title(f\"{titles[i]} -- avg: {val:.4f} \", fontsize=14)\n",
    "    if i == 0:\n",
    "        axes[i].set_ylabel(\"Sentiment Score\", fontsize=14)\n",
    "    else:\n",
    "        axes[i].set_ylabel(\"\")\n",
    "\n",
    "plt.show()"
   ]
  },
  {
   "cell_type": "markdown",
   "metadata": {},
   "source": [
    "#### Subjectivity"
   ]
  },
  {
   "cell_type": "code",
   "execution_count": 275,
   "metadata": {
    "scrolled": true
   },
   "outputs": [
    {
     "data": {
      "text/plain": [
       "top_emoji\n",
       "👀    0.221970\n",
       "📺    0.312028\n",
       "😊    0.319625\n",
       "😩    0.450463\n",
       "😱    0.000000\n",
       "Name: subjectivity, dtype: float64"
      ]
     },
     "execution_count": 275,
     "metadata": {},
     "output_type": "execute_result"
    }
   ],
   "source": [
    "new_df.groupby('top_emoji').mean().subjectivity"
   ]
  },
  {
   "cell_type": "code",
   "execution_count": 276,
   "metadata": {},
   "outputs": [
    {
     "data": {
      "image/png": "[encoded data removed]",
      "text/plain": [
       "<Figure size 1152x360 with 5 Axes>"
      ]
     },
     "metadata": {},
     "output_type": "display_data"
    }
   ],
   "source": [
    "fig, axes = plt.subplots(nrows=1, ncols=5, figsize=(16,5), sharey=True, )\n",
    "titles = ['Excited', 'Chill', 'Happy', 'Sad', 'Scared']\n",
    "\n",
    "# Plot the mean of subjectivity\n",
    "for i, emoji in enumerate(new_df.groupby('top_emoji').mean().subjectivity.index):\n",
    "    sns.violinplot(y=new_df[new_df.top_emoji==emoji].subjectivity, ax=axes[i])\n",
    "    val = new_df[new_df.top_emoji == emoji].subjectivity.mean()\n",
    "    axes[i].set_title(f\"{titles[i]} -- avg: {val:.4f} \", fontsize=14)    \n",
    "    if i == 0:\n",
    "        axes[i].set_ylabel(\"Subjectivity Score\", fontsize=14)\n",
    "    else:\n",
    "        axes[i].set_ylabel(\"\")\n",
    "\n",
    "plt.show()"
   ]
  },
  {
   "cell_type": "markdown",
   "metadata": {},
   "source": [
    "#### Exclamation Points"
   ]
  },
  {
   "cell_type": "code",
   "execution_count": 277,
   "metadata": {},
   "outputs": [
    {
     "data": {
      "text/plain": [
       "top_emoji\n",
       "👀    0.0\n",
       "📺    0.0\n",
       "😊    0.0\n",
       "😩    0.0\n",
       "😱    0.0\n",
       "Name: exclamation_points, dtype: float64"
      ]
     },
     "execution_count": 277,
     "metadata": {},
     "output_type": "execute_result"
    }
   ],
   "source": [
    "new_df.groupby('top_emoji').mean().exclamation_points"
   ]
  },
  {
   "cell_type": "code",
   "execution_count": 278,
   "metadata": {
    "scrolled": true
   },
   "outputs": [
    {
     "data": {
      "image/png": "[encoded data removed]",
      "text/plain": [
       "<Figure size 1152x360 with 5 Axes>"
      ]
     },
     "metadata": {},
     "output_type": "display_data"
    }
   ],
   "source": [
    "fig, axes = plt.subplots(nrows=1, ncols=5, figsize=(16,5), sharey=True, )\n",
    "titles = ['Excited', 'Chill', 'Happy', 'Sad', 'Scared']\n",
    "\n",
    "# Plot the mean of exclamation point\n",
    "for i, emoji in enumerate(new_df.groupby('top_emoji').mean().exclamation_points.index):\n",
    "    sns.violinplot(y=new_df[new_df.top_emoji==emoji].exclamation_points, ax=axes[i])\n",
    "    val = new_df[new_df.top_emoji == emoji].exclamation_points.mean()\n",
    "    axes[i].set_title(f\"{titles[i]} -- avg: {val:.4f} \", fontsize=14)\n",
    "    if i == 0:\n",
    "        axes[i].set_ylabel(\"Exclamation Score\", fontsize=14)\n",
    "    else:\n",
    "        axes[i].set_ylabel(\"\")\n",
    "\n",
    "plt.show()"
   ]
  }
 ],
 "metadata": {
  "kernelspec": {
   "display_name": "Python 3",
   "language": "python",
   "name": "python3"
  },
  "language_info": {
   "codemirror_mode": {
    "name": "ipython",
    "version": 3
   },
   "file_extension": ".py",
   "mimetype": "text/x-python",
   "name": "python",
   "nbconvert_exporter": "python",
   "pygments_lexer": "ipython3",
   "version": "3.8.5"
  }
 },
 "nbformat": 4,
 "nbformat_minor": 4
}
