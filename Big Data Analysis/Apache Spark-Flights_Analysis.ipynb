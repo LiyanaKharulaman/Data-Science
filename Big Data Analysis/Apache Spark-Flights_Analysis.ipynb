{
  "nbformat": 4,
  "nbformat_minor": 0,
  "metadata": {
    "kernelspec": {
      "display_name": "Python 3",
      "language": "python",
      "name": "python3"
    },
    "language_info": {
      "codemirror_mode": {
        "name": "ipython",
        "version": 3
      },
      "file_extension": ".py",
      "mimetype": "text/x-python",
      "name": "python",
      "nbconvert_exporter": "python",
      "pygments_lexer": "ipython3",
      "version": "3.8.5"
    },
    "colab": {
      "name": "Flights Analysis.ipynb",
      "provenance": [],
      "collapsed_sections": []
    }
  },
  "cells": [
    {
      "cell_type": "markdown",
      "metadata": {
        "id": "kQar9f-Tzcy9"
      },
      "source": [
        "Dataset Source: https://www.kaggle.com/freddejn/flights"
      ]
    },
    {
      "cell_type": "markdown",
      "metadata": {
        "id": "OCyAKR2FzczF"
      },
      "source": [
        "### 1- Load the data"
      ]
    },
    {
      "cell_type": "code",
      "metadata": {
        "colab": {
          "base_uri": "https://localhost:8080/"
        },
        "id": "diYAJ1A7zczG",
        "outputId": "e98347ac-8587-45a9-9131-46dd65ebe6ad"
      },
      "source": [
        "!pip install pyspark"
      ],
      "execution_count": 228,
      "outputs": [
        {
          "output_type": "stream",
          "text": [
            "Requirement already satisfied: pyspark in /usr/local/lib/python3.6/dist-packages (3.0.1)\n",
            "Requirement already satisfied: py4j==0.10.9 in /usr/local/lib/python3.6/dist-packages (from pyspark) (0.10.9)\n"
          ],
          "name": "stdout"
        }
      ]
    },
    {
      "cell_type": "code",
      "metadata": {
        "id": "PGfee7QhFm7Q"
      },
      "source": [
        "from pyspark.sql import SparkSession"
      ],
      "execution_count": 229,
      "outputs": []
    },
    {
      "cell_type": "code",
      "metadata": {
        "id": "f1P1wX6zFwir"
      },
      "source": [
        "spark = SparkSession.builder.getOrCreate()"
      ],
      "execution_count": 230,
      "outputs": []
    },
    {
      "cell_type": "code",
      "metadata": {
        "id": "0QZTfi6tF-Y4"
      },
      "source": [
        "import os\r\n",
        "MAIN_DIRECTORY = os.getcwd()"
      ],
      "execution_count": 231,
      "outputs": []
    },
    {
      "cell_type": "code",
      "metadata": {
        "id": "3fYwSAE0GCkP"
      },
      "source": [
        "file_path = MAIN_DIRECTORY + '/data/flights.csv'"
      ],
      "execution_count": 232,
      "outputs": []
    },
    {
      "cell_type": "code",
      "metadata": {
        "id": "aa1ecbvoF0Xb"
      },
      "source": [
        "df = spark.read.format('csv').option('header', 'true').option('inferSchema', 'true').load(file_path)"
      ],
      "execution_count": 328,
      "outputs": []
    },
    {
      "cell_type": "code",
      "metadata": {
        "colab": {
          "base_uri": "https://localhost:8080/"
        },
        "id": "y9wY6IEzGNU0",
        "outputId": "f6c41eb8-6a7f-4316-a55d-7b83b825452d"
      },
      "source": [
        "df.show(5)"
      ],
      "execution_count": 275,
      "outputs": [
        {
          "output_type": "stream",
          "text": [
            "+----+-----+---+-----------+-------+-------------+-----------+--------------+-------------------+-------------------+--------------+---------------+--------+----------+--------------+------------+--------+--------+---------+-------+-----------------+------------+-------------+--------+---------+-------------------+----------------+--------------+-------------+-------------------+-------------+\n",
            "|YEAR|MONTH|DAY|DAY_OF_WEEK|AIRLINE|FLIGHT_NUMBER|TAIL_NUMBER|ORIGIN_AIRPORT|DESTINATION_AIRPORT|SCHEDULED_DEPARTURE|DEPARTURE_TIME|DEPARTURE_DELAY|TAXI_OUT|WHEELS_OFF|SCHEDULED_TIME|ELAPSED_TIME|AIR_TIME|DISTANCE|WHEELS_ON|TAXI_IN|SCHEDULED_ARRIVAL|ARRIVAL_TIME|ARRIVAL_DELAY|DIVERTED|CANCELLED|CANCELLATION_REASON|AIR_SYSTEM_DELAY|SECURITY_DELAY|AIRLINE_DELAY|LATE_AIRCRAFT_DELAY|WEATHER_DELAY|\n",
            "+----+-----+---+-----------+-------+-------------+-----------+--------------+-------------------+-------------------+--------------+---------------+--------+----------+--------------+------------+--------+--------+---------+-------+-----------------+------------+-------------+--------+---------+-------------------+----------------+--------------+-------------+-------------------+-------------+\n",
            "|2015|    1|  1|          4|     AS|           98|     N407AS|           ANC|                SEA|                  5|          2354|            -11|      21|        15|           205|         194|     169|    1448|      404|      4|              430|         408|          -22|       0|        0|               null|            null|          null|         null|               null|         null|\n",
            "|2015|    1|  1|          4|     AA|         2336|     N3KUAA|           LAX|                PBI|                 10|             2|             -8|      12|        14|           280|         279|     263|    2330|      737|      4|              750|         741|           -9|       0|        0|               null|            null|          null|         null|               null|         null|\n",
            "|2015|    1|  1|          4|     US|          840|     N171US|           SFO|                CLT|                 20|            18|             -2|      16|        34|           286|         293|     266|    2296|      800|     11|              806|         811|            5|       0|        0|               null|            null|          null|         null|               null|         null|\n",
            "|2015|    1|  1|          4|     AA|          258|     N3HYAA|           LAX|                MIA|                 20|            15|             -5|      15|        30|           285|         281|     258|    2342|      748|      8|              805|         756|           -9|       0|        0|               null|            null|          null|         null|               null|         null|\n",
            "|2015|    1|  1|          4|     AS|          135|     N527AS|           SEA|                ANC|                 25|            24|             -1|      11|        35|           235|         215|     199|    1448|      254|      5|              320|         259|          -21|       0|        0|               null|            null|          null|         null|               null|         null|\n",
            "+----+-----+---+-----------+-------+-------------+-----------+--------------+-------------------+-------------------+--------------+---------------+--------+----------+--------------+------------+--------+--------+---------+-------+-----------------+------------+-------------+--------+---------+-------------------+----------------+--------------+-------------+-------------------+-------------+\n",
            "only showing top 5 rows\n",
            "\n"
          ],
          "name": "stdout"
        }
      ]
    },
    {
      "cell_type": "code",
      "metadata": {
        "colab": {
          "base_uri": "https://localhost:8080/"
        },
        "id": "jjzV132zGS9u",
        "outputId": "01df04d6-16a1-47a2-aa82-ab162c9b3c28"
      },
      "source": [
        "df.columns"
      ],
      "execution_count": 235,
      "outputs": [
        {
          "output_type": "execute_result",
          "data": {
            "text/plain": [
              "['YEAR',\n",
              " 'MONTH',\n",
              " 'DAY',\n",
              " 'DAY_OF_WEEK',\n",
              " 'AIRLINE',\n",
              " 'FLIGHT_NUMBER',\n",
              " 'TAIL_NUMBER',\n",
              " 'ORIGIN_AIRPORT',\n",
              " 'DESTINATION_AIRPORT',\n",
              " 'SCHEDULED_DEPARTURE',\n",
              " 'DEPARTURE_TIME',\n",
              " 'DEPARTURE_DELAY',\n",
              " 'TAXI_OUT',\n",
              " 'WHEELS_OFF',\n",
              " 'SCHEDULED_TIME',\n",
              " 'ELAPSED_TIME',\n",
              " 'AIR_TIME',\n",
              " 'DISTANCE',\n",
              " 'WHEELS_ON',\n",
              " 'TAXI_IN',\n",
              " 'SCHEDULED_ARRIVAL',\n",
              " 'ARRIVAL_TIME',\n",
              " 'ARRIVAL_DELAY',\n",
              " 'DIVERTED',\n",
              " 'CANCELLED',\n",
              " 'CANCELLATION_REASON',\n",
              " 'AIR_SYSTEM_DELAY',\n",
              " 'SECURITY_DELAY',\n",
              " 'AIRLINE_DELAY',\n",
              " 'LATE_AIRCRAFT_DELAY',\n",
              " 'WEATHER_DELAY']"
            ]
          },
          "metadata": {
            "tags": []
          },
          "execution_count": 235
        }
      ]
    },
    {
      "cell_type": "code",
      "metadata": {
        "colab": {
          "base_uri": "https://localhost:8080/"
        },
        "id": "koTvEC5JGXGB",
        "outputId": "959ea7e3-6bae-4bbf-cac4-399df635a6d7"
      },
      "source": [
        "df.printSchema()"
      ],
      "execution_count": 236,
      "outputs": [
        {
          "output_type": "stream",
          "text": [
            "root\n",
            " |-- YEAR: integer (nullable = true)\n",
            " |-- MONTH: integer (nullable = true)\n",
            " |-- DAY: integer (nullable = true)\n",
            " |-- DAY_OF_WEEK: integer (nullable = true)\n",
            " |-- AIRLINE: string (nullable = true)\n",
            " |-- FLIGHT_NUMBER: integer (nullable = true)\n",
            " |-- TAIL_NUMBER: string (nullable = true)\n",
            " |-- ORIGIN_AIRPORT: string (nullable = true)\n",
            " |-- DESTINATION_AIRPORT: string (nullable = true)\n",
            " |-- SCHEDULED_DEPARTURE: integer (nullable = true)\n",
            " |-- DEPARTURE_TIME: integer (nullable = true)\n",
            " |-- DEPARTURE_DELAY: integer (nullable = true)\n",
            " |-- TAXI_OUT: integer (nullable = true)\n",
            " |-- WHEELS_OFF: integer (nullable = true)\n",
            " |-- SCHEDULED_TIME: integer (nullable = true)\n",
            " |-- ELAPSED_TIME: integer (nullable = true)\n",
            " |-- AIR_TIME: integer (nullable = true)\n",
            " |-- DISTANCE: integer (nullable = true)\n",
            " |-- WHEELS_ON: integer (nullable = true)\n",
            " |-- TAXI_IN: integer (nullable = true)\n",
            " |-- SCHEDULED_ARRIVAL: integer (nullable = true)\n",
            " |-- ARRIVAL_TIME: integer (nullable = true)\n",
            " |-- ARRIVAL_DELAY: integer (nullable = true)\n",
            " |-- DIVERTED: integer (nullable = true)\n",
            " |-- CANCELLED: integer (nullable = true)\n",
            " |-- CANCELLATION_REASON: string (nullable = true)\n",
            " |-- AIR_SYSTEM_DELAY: integer (nullable = true)\n",
            " |-- SECURITY_DELAY: integer (nullable = true)\n",
            " |-- AIRLINE_DELAY: integer (nullable = true)\n",
            " |-- LATE_AIRCRAFT_DELAY: integer (nullable = true)\n",
            " |-- WEATHER_DELAY: integer (nullable = true)\n",
            "\n"
          ],
          "name": "stdout"
        }
      ]
    },
    {
      "cell_type": "code",
      "metadata": {
        "id": "7GU_6Ba-HaLc"
      },
      "source": [
        "#to create temp. view for spark sql\r\n",
        "df.createOrReplaceTempView('flights')"
      ],
      "execution_count": 237,
      "outputs": []
    },
    {
      "cell_type": "code",
      "metadata": {
        "colab": {
          "base_uri": "https://localhost:8080/"
        },
        "id": "z0Bo50vGHoAS",
        "outputId": "5ebe9085-af60-4838-c7e1-97b4ee462311"
      },
      "source": [
        "spark.sql('SELECT * FROM flights LIMIT 5').show()"
      ],
      "execution_count": 238,
      "outputs": [
        {
          "output_type": "stream",
          "text": [
            "+----+-----+---+-----------+-------+-------------+-----------+--------------+-------------------+-------------------+--------------+---------------+--------+----------+--------------+------------+--------+--------+---------+-------+-----------------+------------+-------------+--------+---------+-------------------+----------------+--------------+-------------+-------------------+-------------+\n",
            "|YEAR|MONTH|DAY|DAY_OF_WEEK|AIRLINE|FLIGHT_NUMBER|TAIL_NUMBER|ORIGIN_AIRPORT|DESTINATION_AIRPORT|SCHEDULED_DEPARTURE|DEPARTURE_TIME|DEPARTURE_DELAY|TAXI_OUT|WHEELS_OFF|SCHEDULED_TIME|ELAPSED_TIME|AIR_TIME|DISTANCE|WHEELS_ON|TAXI_IN|SCHEDULED_ARRIVAL|ARRIVAL_TIME|ARRIVAL_DELAY|DIVERTED|CANCELLED|CANCELLATION_REASON|AIR_SYSTEM_DELAY|SECURITY_DELAY|AIRLINE_DELAY|LATE_AIRCRAFT_DELAY|WEATHER_DELAY|\n",
            "+----+-----+---+-----------+-------+-------------+-----------+--------------+-------------------+-------------------+--------------+---------------+--------+----------+--------------+------------+--------+--------+---------+-------+-----------------+------------+-------------+--------+---------+-------------------+----------------+--------------+-------------+-------------------+-------------+\n",
            "|2015|    1|  1|          4|     AS|           98|     N407AS|           ANC|                SEA|                  5|          2354|            -11|      21|        15|           205|         194|     169|    1448|      404|      4|              430|         408|          -22|       0|        0|               null|            null|          null|         null|               null|         null|\n",
            "|2015|    1|  1|          4|     AA|         2336|     N3KUAA|           LAX|                PBI|                 10|             2|             -8|      12|        14|           280|         279|     263|    2330|      737|      4|              750|         741|           -9|       0|        0|               null|            null|          null|         null|               null|         null|\n",
            "|2015|    1|  1|          4|     US|          840|     N171US|           SFO|                CLT|                 20|            18|             -2|      16|        34|           286|         293|     266|    2296|      800|     11|              806|         811|            5|       0|        0|               null|            null|          null|         null|               null|         null|\n",
            "|2015|    1|  1|          4|     AA|          258|     N3HYAA|           LAX|                MIA|                 20|            15|             -5|      15|        30|           285|         281|     258|    2342|      748|      8|              805|         756|           -9|       0|        0|               null|            null|          null|         null|               null|         null|\n",
            "|2015|    1|  1|          4|     AS|          135|     N527AS|           SEA|                ANC|                 25|            24|             -1|      11|        35|           235|         215|     199|    1448|      254|      5|              320|         259|          -21|       0|        0|               null|            null|          null|         null|               null|         null|\n",
            "+----+-----+---+-----------+-------+-------------+-----------+--------------+-------------------+-------------------+--------------+---------------+--------+----------+--------------+------------+--------+--------+---------+-------+-----------------+------------+-------------+--------+---------+-------------------+----------------+--------------+-------------+-------------------+-------------+\n",
            "\n"
          ],
          "name": "stdout"
        }
      ]
    },
    {
      "cell_type": "markdown",
      "metadata": {
        "id": "uYv4z3SFzczI"
      },
      "source": [
        "### 2- Statistical descriptions of every airlines"
      ]
    },
    {
      "cell_type": "code",
      "metadata": {
        "id": "HB6qNzw_zczI"
      },
      "source": [
        "df_describe = df.describe()"
      ],
      "execution_count": 239,
      "outputs": []
    },
    {
      "cell_type": "code",
      "metadata": {
        "colab": {
          "base_uri": "https://localhost:8080/"
        },
        "id": "j8oAMXQzGs4_",
        "outputId": "8ddb1956-8180-4b06-81d1-eb01405a17eb"
      },
      "source": [
        "df_describe.show()"
      ],
      "execution_count": 240,
      "outputs": [
        {
          "output_type": "stream",
          "text": [
            "+-------+--------------------+------------------+------------------+-----------------+-------+------------------+-----------+--------------+-------------------+-------------------+------------------+------------------+------------------+------------------+------------------+------------------+------------------+-----------------+------------------+-----------------+------------------+------------------+-----------------+--------------------+--------------------+-------------------+------------------+--------------------+------------------+-------------------+------------------+\n",
            "|summary|                YEAR|             MONTH|               DAY|      DAY_OF_WEEK|AIRLINE|     FLIGHT_NUMBER|TAIL_NUMBER|ORIGIN_AIRPORT|DESTINATION_AIRPORT|SCHEDULED_DEPARTURE|    DEPARTURE_TIME|   DEPARTURE_DELAY|          TAXI_OUT|        WHEELS_OFF|    SCHEDULED_TIME|      ELAPSED_TIME|          AIR_TIME|         DISTANCE|         WHEELS_ON|          TAXI_IN| SCHEDULED_ARRIVAL|      ARRIVAL_TIME|    ARRIVAL_DELAY|            DIVERTED|           CANCELLED|CANCELLATION_REASON|  AIR_SYSTEM_DELAY|      SECURITY_DELAY|     AIRLINE_DELAY|LATE_AIRCRAFT_DELAY|     WEATHER_DELAY|\n",
            "+-------+--------------------+------------------+------------------+-----------------+-------+------------------+-----------+--------------+-------------------+-------------------+------------------+------------------+------------------+------------------+------------------+------------------+------------------+-----------------+------------------+-----------------+------------------+------------------+-----------------+--------------------+--------------------+-------------------+------------------+--------------------+------------------+-------------------+------------------+\n",
            "|  count|             1103779|           1103779|           1103779|          1103779|1103779|           1103779|    1095975|       1103779|            1103779|            1103779|           1063968|           1063968|           1063243|           1063243|           1103776|           1060273|           1060273|          1103778|           1062145|          1062145|           1103778|           1062145|          1060273|             1103778|             1103778|              40841|            237471|              237471|            237471|             237471|            237471|\n",
            "|   mean|              2015.0|1.7596004272594423|13.703368156125457|3.929008433753496|   null|2253.7450522251283|       null|          null|               null| 1322.6595713453507|1333.4663617702788|11.070478623417246|16.609023525196026|1357.1307057746913|140.23770674484678|136.85089123272968|112.72402296389703| 803.630128522221|1485.5973402878137|7.530088641381355|1504.2655171601536|1491.8909122577427|7.290171493568166|0.002413528807423232|0.037001099858848426|               null|13.566136496666962|0.058487141587814935|18.139646525259927| 22.783788336260006| 3.460430957885384|\n",
            "| stddev|1.136077604323535...|0.7438889332407176| 8.523106318319872|1.964785818469797|   null|1798.6596355008955|       null|          null|               null|  470.6012984354784| 482.3124893916128|38.803011631869175| 9.976793349914654|  482.614456881807| 74.59846651718622| 73.86393271177832|  71.8016269212892|594.0525243494696|503.08390137994377|6.293556549113252| 486.8402304088442|506.80031382693033|41.62520564447458|0.049068379507077875| 0.18876453785068797|               null| 25.26964692190106|  1.7928831294143912| 46.14011988038186|  41.69391202800874|23.537121213923754|\n",
            "|    min|                2015|                 1|                 1|                1|     AA|                 1|     D942DN|           ABE|                ABE|                  1|                 1|               -61|                 1|                 1|                20|                15|                 7|               31|                 1|                1|                 1|                 1|              -87|                   0|                   0|                  A|                 0|                   0|                 0|                  0|                 0|\n",
            "|    max|                2015|                 3|                31|                7|     WN|              9794|     N9EAMQ|           YUM|                YUM|               2359|              2400|              1988|               225|              2400|               718|               766|               687|             4983|              2400|              202|              2359|              2400|             1971|                   1|                   1|                  D|               830|                 241|              1971|               1313|              1152|\n",
            "+-------+--------------------+------------------+------------------+-----------------+-------+------------------+-----------+--------------+-------------------+-------------------+------------------+------------------+------------------+------------------+------------------+------------------+------------------+-----------------+------------------+-----------------+------------------+------------------+-----------------+--------------------+--------------------+-------------------+------------------+--------------------+------------------+-------------------+------------------+\n",
            "\n"
          ],
          "name": "stdout"
        }
      ]
    },
    {
      "cell_type": "code",
      "metadata": {
        "colab": {
          "base_uri": "https://localhost:8080/"
        },
        "id": "4pkEUh-VHC0W",
        "outputId": "c6a971eb-e030-4f6c-ecc3-2e352bb533d1"
      },
      "source": [
        "#to only describe 'YEAR' column\r\n",
        "df.describe('YEAR').show()"
      ],
      "execution_count": 241,
      "outputs": [
        {
          "output_type": "stream",
          "text": [
            "+-------+--------------------+\n",
            "|summary|                YEAR|\n",
            "+-------+--------------------+\n",
            "|  count|             1103779|\n",
            "|   mean|              2015.0|\n",
            "| stddev|1.136077604323535...|\n",
            "|    min|                2015|\n",
            "|    max|                2015|\n",
            "+-------+--------------------+\n",
            "\n"
          ],
          "name": "stdout"
        }
      ]
    },
    {
      "cell_type": "markdown",
      "metadata": {
        "id": "b2WPWYrzzczI"
      },
      "source": [
        "### 3- How many number of flights does each airline company has?"
      ]
    },
    {
      "cell_type": "code",
      "metadata": {
        "colab": {
          "base_uri": "https://localhost:8080/"
        },
        "id": "hbPWwSC0zczI",
        "outputId": "d4aa9b16-8294-42f1-afd3-c846a4eef390"
      },
      "source": [
        "#DataFrame API\r\n",
        "df_count = df.groupBy(df['AIRLINE']).count().orderBy(df['AIRLINE'].desc()).show()"
      ],
      "execution_count": 242,
      "outputs": [
        {
          "output_type": "stream",
          "text": [
            "+-------+------+\n",
            "|AIRLINE| count|\n",
            "+-------+------+\n",
            "|     WN|233719|\n",
            "|     VX| 10932|\n",
            "|     US| 77709|\n",
            "|     UA| 92474|\n",
            "|     OO|112495|\n",
            "|     NK| 20583|\n",
            "|     MQ| 68589|\n",
            "|     HA| 14810|\n",
            "|     F9| 15405|\n",
            "|     EV|117285|\n",
            "|     DL|155609|\n",
            "|     B6| 50557|\n",
            "|     AS| 31138|\n",
            "|     AA|102474|\n",
            "+-------+------+\n",
            "\n"
          ],
          "name": "stdout"
        }
      ]
    },
    {
      "cell_type": "code",
      "metadata": {
        "colab": {
          "base_uri": "https://localhost:8080/"
        },
        "id": "MRNDfjf0INZU",
        "outputId": "0c99ad5b-f792-4e5c-fe0c-85c95c3da9b2"
      },
      "source": [
        "#Spark SQL\r\n",
        "df_count = spark.sql('SELECT AIRLINE, COUNT(TAIL_NUMBER) AS Count FROM flights GROUP BY AIRLINE ORDER BY Count DESC')\r\n",
        "df_count.show()"
      ],
      "execution_count": 243,
      "outputs": [
        {
          "output_type": "stream",
          "text": [
            "+-------+------+\n",
            "|AIRLINE| Count|\n",
            "+-------+------+\n",
            "|     WN|232696|\n",
            "|     DL|155583|\n",
            "|     EV|117231|\n",
            "|     OO|112471|\n",
            "|     AA|101513|\n",
            "|     UA| 90128|\n",
            "|     US| 74641|\n",
            "|     MQ| 68541|\n",
            "|     B6| 50557|\n",
            "|     AS| 31138|\n",
            "|     NK| 20583|\n",
            "|     F9| 15181|\n",
            "|     HA| 14780|\n",
            "|     VX| 10932|\n",
            "+-------+------+\n",
            "\n"
          ],
          "name": "stdout"
        }
      ]
    },
    {
      "cell_type": "markdown",
      "metadata": {
        "id": "6pHU5OjZzczJ"
      },
      "source": [
        "### 4- What were the total flights that each airplane has made?"
      ]
    },
    {
      "cell_type": "code",
      "metadata": {
        "colab": {
          "base_uri": "https://localhost:8080/"
        },
        "id": "ZWjWs-bzzczJ",
        "outputId": "b2e42fa8-acc3-427b-ebe7-1b6ddda9783e"
      },
      "source": [
        "#DataFrame API\r\n",
        "df_flights = df.groupBy(df['TAIL_NUMBER']).count().orderBy(df['TAIL_NUMBER'].desc()).show()"
      ],
      "execution_count": 244,
      "outputs": [
        {
          "output_type": "stream",
          "text": [
            "+-----------+-----+\n",
            "|TAIL_NUMBER|count|\n",
            "+-----------+-----+\n",
            "|     N9EAMQ|  356|\n",
            "|     N999DN|  290|\n",
            "|     N998DL|  323|\n",
            "|     N998AT|  380|\n",
            "|     N997DL|  313|\n",
            "|     N996DL|  322|\n",
            "|     N995DL|  279|\n",
            "|     N995AT|  360|\n",
            "|     N994DL|  281|\n",
            "|     N994AT|  369|\n",
            "|     N993DL|  293|\n",
            "|     N993AT|   65|\n",
            "|     N992DL|  291|\n",
            "|     N991DL|  299|\n",
            "|     N991AT|  386|\n",
            "|     N990DL|  278|\n",
            "|     N990AT|  392|\n",
            "|     N989DL|  273|\n",
            "|     N989AT|  381|\n",
            "|     N988DL|  306|\n",
            "+-----------+-----+\n",
            "only showing top 20 rows\n",
            "\n"
          ],
          "name": "stdout"
        }
      ]
    },
    {
      "cell_type": "code",
      "metadata": {
        "colab": {
          "base_uri": "https://localhost:8080/"
        },
        "id": "sDJPD8XiLVUT",
        "outputId": "0025eb1a-29ab-426b-de04-0e5933ef3978"
      },
      "source": [
        "#Spark SQL\r\n",
        "df_flights = spark.sql('SELECT TAIL_NUMBER, count(*) as Count FROM Flights GROUP BY TAIL_NUMBER ORDER BY Count DESC')\r\n",
        "df_flights.show()"
      ],
      "execution_count": 245,
      "outputs": [
        {
          "output_type": "stream",
          "text": [
            "+-----------+-----+\n",
            "|TAIL_NUMBER|Count|\n",
            "+-----------+-----+\n",
            "|       null| 7804|\n",
            "|     N477HA|  854|\n",
            "|     N488HA|  816|\n",
            "|     N476HA|  811|\n",
            "|     N485HA|  807|\n",
            "|     N486HA|  783|\n",
            "|     N484HA|  779|\n",
            "|     N493HA|  766|\n",
            "|     N492HA|  750|\n",
            "|     N489HA|  748|\n",
            "|     N480HA|  735|\n",
            "|     N487HA|  714|\n",
            "|     N491HA|  708|\n",
            "|     N483HA|  694|\n",
            "|     N481HA|  616|\n",
            "|     N528SW|  557|\n",
            "|     N511SW|  555|\n",
            "|     N523SW|  554|\n",
            "|     N526SW|  549|\n",
            "|     N478HA|  530|\n",
            "+-----------+-----+\n",
            "only showing top 20 rows\n",
            "\n"
          ],
          "name": "stdout"
        }
      ]
    },
    {
      "cell_type": "markdown",
      "metadata": {
        "id": "jqyP79J7zczJ"
      },
      "source": [
        "### 5- What was the most preferred airline?"
      ]
    },
    {
      "cell_type": "code",
      "metadata": {
        "colab": {
          "base_uri": "https://localhost:8080/"
        },
        "id": "LZlbMxm8zczJ",
        "outputId": "455b5e7e-5796-4b9c-b730-9c5f90e3a44c"
      },
      "source": [
        "#DataFrame API\r\n",
        "df.groupBy(df['AIRLINE']).count().orderBy(df['AIRLINE'].desc()).head()[0:2]"
      ],
      "execution_count": 246,
      "outputs": [
        {
          "output_type": "execute_result",
          "data": {
            "text/plain": [
              "('WN', 233719)"
            ]
          },
          "metadata": {
            "tags": []
          },
          "execution_count": 246
        }
      ]
    },
    {
      "cell_type": "code",
      "metadata": {
        "colab": {
          "base_uri": "https://localhost:8080/"
        },
        "id": "Ie2AOuVcM03m",
        "outputId": "ab7bea60-f226-4aee-b7ae-852a79412558"
      },
      "source": [
        "#Spark SQL\r\n",
        "df_count = spark.sql('SELECT AIRLINE, COUNT(TAIL_NUMBER) AS Count FROM flights GROUP BY AIRLINE ORDER BY Count DESC LIMIT 1')\r\n",
        "df_count.show()"
      ],
      "execution_count": 247,
      "outputs": [
        {
          "output_type": "stream",
          "text": [
            "+-------+------+\n",
            "|AIRLINE| Count|\n",
            "+-------+------+\n",
            "|     WN|232696|\n",
            "+-------+------+\n",
            "\n"
          ],
          "name": "stdout"
        }
      ]
    },
    {
      "cell_type": "markdown",
      "metadata": {
        "id": "XVQCfVyEzczK"
      },
      "source": [
        "### 6- Delays: arrival or departure?"
      ]
    },
    {
      "cell_type": "code",
      "metadata": {
        "colab": {
          "base_uri": "https://localhost:8080/"
        },
        "id": "rhdFmZvozczK",
        "outputId": "47b359c9-b903-46ef-b120-74ab7b61c444"
      },
      "source": [
        "#DataFrame API\r\n",
        "df_arrivaldelay = df.groupby('AIRLINE').agg({'ARRIVAL_DELAY':'mean'}).show()"
      ],
      "execution_count": 248,
      "outputs": [
        {
          "output_type": "stream",
          "text": [
            "+-------+-------------------+\n",
            "|AIRLINE| avg(ARRIVAL_DELAY)|\n",
            "+-------+-------------------+\n",
            "|     UA|   6.91378734954502|\n",
            "|     NK| 14.464639426666004|\n",
            "|     AA|  7.999651385741677|\n",
            "|     EV|  10.13289192807265|\n",
            "|     B6| 13.147467465789308|\n",
            "|     DL| 2.5077849338247833|\n",
            "|     OO|  9.528759967005774|\n",
            "|     F9| 23.754571258828964|\n",
            "|     US|   5.25674294780434|\n",
            "|     MQ| 19.792931290163125|\n",
            "|     HA|   4.45045045045045|\n",
            "|     AS|-0.5548200785229891|\n",
            "|     VX|  5.121751412429378|\n",
            "|     WN| 3.5873994957678943|\n",
            "+-------+-------------------+\n",
            "\n"
          ],
          "name": "stdout"
        }
      ]
    },
    {
      "cell_type": "code",
      "metadata": {
        "colab": {
          "base_uri": "https://localhost:8080/"
        },
        "id": "j-ZjQLyeRVfu",
        "outputId": "1dd4085c-8608-4521-b6ba-9daf04f5df35"
      },
      "source": [
        "#SPARK SQL\r\n",
        "df_arrivaldelay = spark.sql('SELECT AIRLINE, round(avg(ARRIVAL_DELAY), 2) AS Average_Arrival_Delay FROM flights GROUP BY AIRLINE ORDER BY Average_Arrival_Delay')\r\n",
        "df_arrivaldelay.show()"
      ],
      "execution_count": 249,
      "outputs": [
        {
          "output_type": "stream",
          "text": [
            "+-------+---------------------+\n",
            "|AIRLINE|Average_Arrival_Delay|\n",
            "+-------+---------------------+\n",
            "|     AS|                -0.55|\n",
            "|     DL|                 2.51|\n",
            "|     WN|                 3.59|\n",
            "|     HA|                 4.45|\n",
            "|     VX|                 5.12|\n",
            "|     US|                 5.26|\n",
            "|     UA|                 6.91|\n",
            "|     AA|                  8.0|\n",
            "|     OO|                 9.53|\n",
            "|     EV|                10.13|\n",
            "|     B6|                13.15|\n",
            "|     NK|                14.46|\n",
            "|     MQ|                19.79|\n",
            "|     F9|                23.75|\n",
            "+-------+---------------------+\n",
            "\n"
          ],
          "name": "stdout"
        }
      ]
    },
    {
      "cell_type": "code",
      "metadata": {
        "colab": {
          "base_uri": "https://localhost:8080/"
        },
        "id": "2xsH-Lq7S3dy",
        "outputId": "f7df5992-3762-4820-cb0e-08ebee98beb6"
      },
      "source": [
        "#DataFrame API\r\n",
        "df_departuredelay = df.groupby('AIRLINE').agg({'DEPARTURE_DELAY':'mean'}).show()"
      ],
      "execution_count": 250,
      "outputs": [
        {
          "output_type": "stream",
          "text": [
            "+-------+--------------------+\n",
            "|AIRLINE|avg(DEPARTURE_DELAY)|\n",
            "+-------+--------------------+\n",
            "|     UA|  14.651451269305877|\n",
            "|     NK|   15.69885263001043|\n",
            "|     AA|  11.153218059558117|\n",
            "|     EV|   11.17374513898891|\n",
            "|     B6|  15.329182311222361|\n",
            "|     DL|    9.41277289147165|\n",
            "|     OO|  11.009628272108099|\n",
            "|     F9|  22.735327053553785|\n",
            "|     US|   7.305864069345266|\n",
            "|     MQ|   17.71331684222597|\n",
            "|     HA|  1.5524357239512856|\n",
            "|     AS|   2.948009564430658|\n",
            "|     VX|  10.139761748428853|\n",
            "|     WN|   9.840593431563372|\n",
            "+-------+--------------------+\n",
            "\n"
          ],
          "name": "stdout"
        }
      ]
    },
    {
      "cell_type": "code",
      "metadata": {
        "colab": {
          "base_uri": "https://localhost:8080/"
        },
        "id": "AxTrHjPaTHft",
        "outputId": "27f22df2-8e98-4105-bf0d-164660fa09e5"
      },
      "source": [
        "#SPARK SQL\r\n",
        "df_departuredelay = spark.sql('SELECT AIRLINE, round(avg(DEPARTURE_DELAY), 2) AS Average_Departure_Delay FROM flights GROUP BY AIRLINE ORDER BY Average_Departure_Delay')\r\n",
        "df_departuredelay.show()"
      ],
      "execution_count": 251,
      "outputs": [
        {
          "output_type": "stream",
          "text": [
            "+-------+-----------------------+\n",
            "|AIRLINE|Average_Departure_Delay|\n",
            "+-------+-----------------------+\n",
            "|     HA|                   1.55|\n",
            "|     AS|                   2.95|\n",
            "|     US|                   7.31|\n",
            "|     DL|                   9.41|\n",
            "|     WN|                   9.84|\n",
            "|     VX|                  10.14|\n",
            "|     OO|                  11.01|\n",
            "|     AA|                  11.15|\n",
            "|     EV|                  11.17|\n",
            "|     UA|                  14.65|\n",
            "|     B6|                  15.33|\n",
            "|     NK|                   15.7|\n",
            "|     MQ|                  17.71|\n",
            "|     F9|                  22.74|\n",
            "+-------+-----------------------+\n",
            "\n"
          ],
          "name": "stdout"
        }
      ]
    },
    {
      "cell_type": "markdown",
      "metadata": {
        "id": "KevXOzCyTYc5"
      },
      "source": [
        "Therefore, most delays occured during departure."
      ]
    },
    {
      "cell_type": "markdown",
      "metadata": {
        "id": "mtraE4NNzczK"
      },
      "source": [
        "### 7- How many cancelled flights?"
      ]
    },
    {
      "cell_type": "code",
      "metadata": {
        "id": "hrP9uRBezczK",
        "colab": {
          "base_uri": "https://localhost:8080/"
        },
        "outputId": "7ee0044f-e755-4e9a-d8fe-39ace360e0bb"
      },
      "source": [
        "#DataFrame API\r\n",
        "df = df.filter(df['CANCELLED'] == 1).groupby('AIRLINE', 'TAIL_NUMBER', 'CANCELLED').sum('CANCELLED').show()"
      ],
      "execution_count": 329,
      "outputs": [
        {
          "output_type": "stream",
          "text": [
            "+-------+-----------+---------+--------------+\n",
            "|AIRLINE|TAIL_NUMBER|CANCELLED|sum(CANCELLED)|\n",
            "+-------+-----------+---------+--------------+\n",
            "|     MQ|     N674MQ|        1|            35|\n",
            "|     OO|     N756SK|        1|            12|\n",
            "|     OO|     N773SK|        1|             6|\n",
            "|     AA|     N3GEAA|        1|             7|\n",
            "|     B6|     N929JB|        1|             5|\n",
            "|     DL|     N905DE|        1|             9|\n",
            "|     DL|     N302NB|        1|             4|\n",
            "|     NK|     N635NK|        1|            11|\n",
            "|     EV|     N176PQ|        1|             6|\n",
            "|     US|     N126UW|        1|             1|\n",
            "|     MQ|     N532MQ|        1|            45|\n",
            "|     EV|     N14153|        1|             5|\n",
            "|     EV|     N837AS|        1|            15|\n",
            "|     OO|     N945SW|        1|             9|\n",
            "|     OO|     N809CA|        1|             9|\n",
            "|     UA|     N38727|        1|             1|\n",
            "|     B6|     N935JB|        1|             4|\n",
            "|     AA|     N3LXAA|        1|             8|\n",
            "|     AS|     N590AS|        1|             1|\n",
            "|     NK|     N612NK|        1|             6|\n",
            "+-------+-----------+---------+--------------+\n",
            "only showing top 20 rows\n",
            "\n"
          ],
          "name": "stdout"
        }
      ]
    },
    {
      "cell_type": "code",
      "metadata": {
        "id": "SICRvrz0zczK",
        "colab": {
          "base_uri": "https://localhost:8080/"
        },
        "outputId": "5ee549d6-2bbb-4c83-d20b-33e625c2e743"
      },
      "source": [
        "#SPARK SQL\r\n",
        "spark.sql('SELECT AIRLINE, TAIL_NUMBER, sum(CANCELLED) AS Total FROM flights WHERE CANCELLED = 1 GROUP BY AIRLINE, TAIL_NUMBER ORDER BY Total DESC').show(30)"
      ],
      "execution_count": 331,
      "outputs": [
        {
          "output_type": "stream",
          "text": [
            "+-------+-----------+-----+\n",
            "|AIRLINE|TAIL_NUMBER|Total|\n",
            "+-------+-----------+-----+\n",
            "|     US|       null| 3068|\n",
            "|     UA|       null| 2346|\n",
            "|     WN|       null| 1023|\n",
            "|     AA|       null|  961|\n",
            "|     F9|       null|  224|\n",
            "|     MQ|     N655MQ|   79|\n",
            "|     MQ|     N696MQ|   68|\n",
            "|     MQ|     N610MQ|   67|\n",
            "|     MQ|     N630MQ|   66|\n",
            "|     MQ|     N909MQ|   61|\n",
            "|     EV|     N902EV|   61|\n",
            "|     MQ|     N544MQ|   60|\n",
            "|     MQ|     N855MQ|   60|\n",
            "|     MQ|     N660MQ|   59|\n",
            "|     MQ|     N820MQ|   58|\n",
            "|     MQ|     N851MQ|   57|\n",
            "|     MQ|     N602MQ|   57|\n",
            "|     MQ|     N608MQ|   57|\n",
            "|     MQ|     N9EAMQ|   57|\n",
            "|     MQ|     N645MQ|   57|\n",
            "|     MQ|     N609MQ|   57|\n",
            "|     MQ|     N618MQ|   56|\n",
            "|     MQ|     N908MQ|   56|\n",
            "|     MQ|     N527MQ|   56|\n",
            "|     MQ|     N694MQ|   55|\n",
            "|     MQ|     N636MQ|   55|\n",
            "|     MQ|     N676MQ|   55|\n",
            "|     MQ|     N617MQ|   55|\n",
            "|     MQ|     N513MQ|   55|\n",
            "|     MQ|     N531MQ|   55|\n",
            "+-------+-----------+-----+\n",
            "only showing top 30 rows\n",
            "\n"
          ],
          "name": "stdout"
        }
      ]
    },
    {
      "cell_type": "markdown",
      "metadata": {
        "id": "aIBZBDPZzczL"
      },
      "source": [
        "### 8- Which origin airport has experienced arrival and departure delays more often?"
      ]
    },
    {
      "cell_type": "code",
      "metadata": {
        "colab": {
          "base_uri": "https://localhost:8080/"
        },
        "id": "oWBhNIobzczM",
        "outputId": "efb7d2f5-af45-4fcc-8619-c794f77ee1b6"
      },
      "source": [
        "#DataFrame API\r\n",
        "df_originarrival = df.groupBy('ORIGIN_AIRPORT').avg('ARRIVAL_DELAY').show()"
      ],
      "execution_count": 252,
      "outputs": [
        {
          "output_type": "stream",
          "text": [
            "+--------------+-------------------+\n",
            "|ORIGIN_AIRPORT| avg(ARRIVAL_DELAY)|\n",
            "+--------------+-------------------+\n",
            "|           BGM|  18.36111111111111|\n",
            "|           PSE| 4.0198675496688745|\n",
            "|           INL| 12.268292682926829|\n",
            "|           MSY|  2.171060852180432|\n",
            "|           PPG| 16.761904761904763|\n",
            "|           GEG| 0.6990788126919141|\n",
            "|           SNA| 2.9120745542949757|\n",
            "|           BUR|  4.235111341273951|\n",
            "|           GRB|  8.636865342163356|\n",
            "|           GTF| 1.2852852852852852|\n",
            "|           IDA|-1.3317191283292977|\n",
            "|           GRR|  7.639982502187227|\n",
            "|           JLN| 16.126984126984127|\n",
            "|           EUG| 3.6726272352132048|\n",
            "|           PSG|  3.870503597122302|\n",
            "|           GSO| 10.132481506388702|\n",
            "|           PVD| 4.4658264663111975|\n",
            "|           MYR| 11.541666666666666|\n",
            "|           OAK|  5.539095647957328|\n",
            "|           MSN|  8.401184706515886|\n",
            "+--------------+-------------------+\n",
            "only showing top 20 rows\n",
            "\n"
          ],
          "name": "stdout"
        }
      ]
    },
    {
      "cell_type": "code",
      "metadata": {
        "colab": {
          "base_uri": "https://localhost:8080/"
        },
        "id": "-JDh5tlsVR_e",
        "outputId": "9a4c355e-c388-41d5-a2be-bbca7ec6668e"
      },
      "source": [
        "#SPARK SQL\r\n",
        "df_originarrival = spark.sql('SELECT ORIGIN_AIRPORT, round(avg(ARRIVAL_DELAY), 2) AS Average_Arrival_Delay FROM flights GROUP BY ORIGIN_AIRPORT ORDER BY Average_Arrival_Delay')\r\n",
        "df_originarrival.show()"
      ],
      "execution_count": 253,
      "outputs": [
        {
          "output_type": "stream",
          "text": [
            "+--------------+---------------------+\n",
            "|ORIGIN_AIRPORT|Average_Arrival_Delay|\n",
            "+--------------+---------------------+\n",
            "|           CNY|               -22.19|\n",
            "|           BTM|               -13.95|\n",
            "|           YAK|               -11.33|\n",
            "|           LWS|               -10.76|\n",
            "|           HLN|                -8.12|\n",
            "|           TWF|                -7.79|\n",
            "|           ADQ|                -6.77|\n",
            "|           CDV|                -6.74|\n",
            "|           MSO|                -6.45|\n",
            "|           FCA|                 -5.4|\n",
            "|           GCC|                 -5.3|\n",
            "|           BJI|                -5.22|\n",
            "|           PSC|                -3.94|\n",
            "|           BIL|                -3.28|\n",
            "|           ITH|                 -3.0|\n",
            "|           GUM|                -2.94|\n",
            "|           VEL|                -2.55|\n",
            "|           ANC|                 -2.5|\n",
            "|           CPR|                -2.05|\n",
            "|           EKO|                -1.77|\n",
            "+--------------+---------------------+\n",
            "only showing top 20 rows\n",
            "\n"
          ],
          "name": "stdout"
        }
      ]
    },
    {
      "cell_type": "code",
      "metadata": {
        "colab": {
          "base_uri": "https://localhost:8080/"
        },
        "id": "3odzzmWwWTCE",
        "outputId": "d99080e9-a008-4efc-fc21-36978303aaa0"
      },
      "source": [
        "#DataFrame API\r\n",
        "df_origindep = df.groupBy('DESTINATION_AIRPORT').avg('DEPARTURE_DELAY').show()"
      ],
      "execution_count": 254,
      "outputs": [
        {
          "output_type": "stream",
          "text": [
            "+-------------------+--------------------+\n",
            "|DESTINATION_AIRPORT|avg(DEPARTURE_DELAY)|\n",
            "+-------------------+--------------------+\n",
            "|                BGM|   21.97222222222222|\n",
            "|                INL|   3.292682926829268|\n",
            "|                PSE|   9.175675675675675|\n",
            "|                MSY|   9.555333998005983|\n",
            "|                PPG|   2.761904761904762|\n",
            "|                GEG|   8.660860655737705|\n",
            "|                SNA|   6.790483914571506|\n",
            "|                BUR|   8.258714175058094|\n",
            "|                GRB|   15.81687014428413|\n",
            "|                GTF|   6.371601208459214|\n",
            "|                IDA|   9.491525423728813|\n",
            "|                GRR|  13.355343179843615|\n",
            "|                JLN|            12.65625|\n",
            "|                EUG|   10.91655266757866|\n",
            "|                PSG|  12.838028169014084|\n",
            "|                MYR|  10.369843527738265|\n",
            "|                GSO|  14.885906040268456|\n",
            "|                PVD|    11.9995183044316|\n",
            "|                OAK|   9.843446601941748|\n",
            "|                MSN|  12.604177825388323|\n",
            "+-------------------+--------------------+\n",
            "only showing top 20 rows\n",
            "\n"
          ],
          "name": "stdout"
        }
      ]
    },
    {
      "cell_type": "code",
      "metadata": {
        "colab": {
          "base_uri": "https://localhost:8080/"
        },
        "id": "uiIsTQmA_joF",
        "outputId": "bf8218c6-7504-4a94-d178-86d1d78b72d8"
      },
      "source": [
        "#SPARK SQL\r\n",
        "df_origindeparture = spark.sql('SELECT DESTINATION_AIRPORT, round(avg(DEPARTURE_DELAY), 2) AS Average_Departure_Delay FROM flights GROUP BY DESTINATION_AIRPORT ORDER BY Average_Departure_Delay')\r\n",
        "df_origindeparture.show()"
      ],
      "execution_count": 255,
      "outputs": [
        {
          "output_type": "stream",
          "text": [
            "+-------------------+-----------------------+\n",
            "|DESTINATION_AIRPORT|Average_Departure_Delay|\n",
            "+-------------------+-----------------------+\n",
            "|                VEL|                  -5.13|\n",
            "|                EKO|                  -4.72|\n",
            "|                BTM|                  -4.19|\n",
            "|                LWS|                  -3.33|\n",
            "|                CNY|                  -3.02|\n",
            "|                PIH|                  -2.83|\n",
            "|                CDC|                  -2.69|\n",
            "|                TWF|                  -2.18|\n",
            "|                YAK|                  -1.89|\n",
            "|                ADK|                   -0.4|\n",
            "|                CDV|                   -0.2|\n",
            "|                ADQ|                   0.32|\n",
            "|                BLI|                    1.6|\n",
            "|                LIH|                   1.68|\n",
            "|                SGU|                   1.86|\n",
            "|                ITO|                   1.88|\n",
            "|                BJI|                   2.22|\n",
            "|                BET|                   2.54|\n",
            "|                YUM|                   2.55|\n",
            "|                GCC|                   2.69|\n",
            "+-------------------+-----------------------+\n",
            "only showing top 20 rows\n",
            "\n"
          ],
          "name": "stdout"
        }
      ]
    },
    {
      "cell_type": "markdown",
      "metadata": {
        "id": "4fE0_XvRVIVe"
      },
      "source": [
        "CNY Airport often experienced arrival delay while VEL airport often experienced departure delay."
      ]
    },
    {
      "cell_type": "markdown",
      "metadata": {
        "id": "1lc5hEmtzczM"
      },
      "source": [
        "### 9- Which destination took the longest flight?"
      ]
    },
    {
      "cell_type": "code",
      "metadata": {
        "id": "29-OEpx_zczM"
      },
      "source": [
        "df = df.withColumn('AirTime_Hrs', df.AIR_TIME * (1/60))"
      ],
      "execution_count": 284,
      "outputs": []
    },
    {
      "cell_type": "code",
      "metadata": {
        "id": "v9csHP9TBDaq",
        "colab": {
          "base_uri": "https://localhost:8080/"
        },
        "outputId": "72264212-e161-4d1a-9796-f67ae8f5ca84"
      },
      "source": [
        "df.columns"
      ],
      "execution_count": 285,
      "outputs": [
        {
          "output_type": "execute_result",
          "data": {
            "text/plain": [
              "['YEAR',\n",
              " 'MONTH',\n",
              " 'DAY',\n",
              " 'DAY_OF_WEEK',\n",
              " 'AIRLINE',\n",
              " 'FLIGHT_NUMBER',\n",
              " 'TAIL_NUMBER',\n",
              " 'ORIGIN_AIRPORT',\n",
              " 'DESTINATION_AIRPORT',\n",
              " 'SCHEDULED_DEPARTURE',\n",
              " 'DEPARTURE_TIME',\n",
              " 'DEPARTURE_DELAY',\n",
              " 'TAXI_OUT',\n",
              " 'WHEELS_OFF',\n",
              " 'SCHEDULED_TIME',\n",
              " 'ELAPSED_TIME',\n",
              " 'AIR_TIME',\n",
              " 'DISTANCE',\n",
              " 'WHEELS_ON',\n",
              " 'TAXI_IN',\n",
              " 'SCHEDULED_ARRIVAL',\n",
              " 'ARRIVAL_TIME',\n",
              " 'ARRIVAL_DELAY',\n",
              " 'DIVERTED',\n",
              " 'CANCELLED',\n",
              " 'CANCELLATION_REASON',\n",
              " 'AIR_SYSTEM_DELAY',\n",
              " 'SECURITY_DELAY',\n",
              " 'AIRLINE_DELAY',\n",
              " 'LATE_AIRCRAFT_DELAY',\n",
              " 'WEATHER_DELAY',\n",
              " 'AirTime_Hrs']"
            ]
          },
          "metadata": {
            "tags": []
          },
          "execution_count": 285
        }
      ]
    },
    {
      "cell_type": "code",
      "metadata": {
        "id": "aXANPfwtBGVb",
        "colab": {
          "base_uri": "https://localhost:8080/"
        },
        "outputId": "239e811e-43fd-442a-96d9-b7b2d383dd9d"
      },
      "source": [
        "df.show(5)"
      ],
      "execution_count": 258,
      "outputs": [
        {
          "output_type": "stream",
          "text": [
            "+----+-----+---+-----------+-------+-------------+-----------+--------------+-------------------+-------------------+--------------+---------------+--------+----------+--------------+------------+--------+--------+---------+-------+-----------------+------------+-------------+--------+---------+-------------------+----------------+--------------+-------------+-------------------+-------------+------------------+\n",
            "|YEAR|MONTH|DAY|DAY_OF_WEEK|AIRLINE|FLIGHT_NUMBER|TAIL_NUMBER|ORIGIN_AIRPORT|DESTINATION_AIRPORT|SCHEDULED_DEPARTURE|DEPARTURE_TIME|DEPARTURE_DELAY|TAXI_OUT|WHEELS_OFF|SCHEDULED_TIME|ELAPSED_TIME|AIR_TIME|DISTANCE|WHEELS_ON|TAXI_IN|SCHEDULED_ARRIVAL|ARRIVAL_TIME|ARRIVAL_DELAY|DIVERTED|CANCELLED|CANCELLATION_REASON|AIR_SYSTEM_DELAY|SECURITY_DELAY|AIRLINE_DELAY|LATE_AIRCRAFT_DELAY|WEATHER_DELAY|       AirTime_Hrs|\n",
            "+----+-----+---+-----------+-------+-------------+-----------+--------------+-------------------+-------------------+--------------+---------------+--------+----------+--------------+------------+--------+--------+---------+-------+-----------------+------------+-------------+--------+---------+-------------------+----------------+--------------+-------------+-------------------+-------------+------------------+\n",
            "|2015|    1|  1|          4|     AS|           98|     N407AS|           ANC|                SEA|                  5|          2354|            -11|      21|        15|           205|         194|     169|    1448|      404|      4|              430|         408|          -22|       0|        0|               null|            null|          null|         null|               null|         null|2.8166666666666664|\n",
            "|2015|    1|  1|          4|     AA|         2336|     N3KUAA|           LAX|                PBI|                 10|             2|             -8|      12|        14|           280|         279|     263|    2330|      737|      4|              750|         741|           -9|       0|        0|               null|            null|          null|         null|               null|         null| 4.383333333333333|\n",
            "|2015|    1|  1|          4|     US|          840|     N171US|           SFO|                CLT|                 20|            18|             -2|      16|        34|           286|         293|     266|    2296|      800|     11|              806|         811|            5|       0|        0|               null|            null|          null|         null|               null|         null| 4.433333333333334|\n",
            "|2015|    1|  1|          4|     AA|          258|     N3HYAA|           LAX|                MIA|                 20|            15|             -5|      15|        30|           285|         281|     258|    2342|      748|      8|              805|         756|           -9|       0|        0|               null|            null|          null|         null|               null|         null|               4.3|\n",
            "|2015|    1|  1|          4|     AS|          135|     N527AS|           SEA|                ANC|                 25|            24|             -1|      11|        35|           235|         215|     199|    1448|      254|      5|              320|         259|          -21|       0|        0|               null|            null|          null|         null|               null|         null|3.3166666666666664|\n",
            "+----+-----+---+-----------+-------+-------------+-----------+--------------+-------------------+-------------------+--------------+---------------+--------+----------+--------------+------------+--------+--------+---------+-------+-----------------+------------+-------------+--------+---------+-------------------+----------------+--------------+-------------+-------------------+-------------+------------------+\n",
            "only showing top 5 rows\n",
            "\n"
          ],
          "name": "stdout"
        }
      ]
    },
    {
      "cell_type": "code",
      "metadata": {
        "colab": {
          "base_uri": "https://localhost:8080/"
        },
        "id": "QO03cPpmFH9y",
        "outputId": "46c36e5e-d58b-4016-f77a-520c1f28888f"
      },
      "source": [
        "#DataFrame API\r\n",
        "df_hrs = df.groupBy('ORIGIN_AIRPORT', 'DESTINATION_AIRPORT', 'DISTANCE').avg('AirTime_Hrs').show()"
      ],
      "execution_count": 259,
      "outputs": [
        {
          "output_type": "stream",
          "text": [
            "+--------------+-------------------+--------+------------------+\n",
            "|ORIGIN_AIRPORT|DESTINATION_AIRPORT|DISTANCE|  avg(AirTime_Hrs)|\n",
            "+--------------+-------------------+--------+------------------+\n",
            "|           BZN|                DEN|     524|1.1730842911877395|\n",
            "|           MGM|                DFW|     622|1.7696396396396397|\n",
            "|           PDX|                ONT|     838|1.8424549549549547|\n",
            "|           SNA|                PHX|     338|0.8841523341523343|\n",
            "|           MCO|                LAS|    2039| 4.777083333333333|\n",
            "|           MIA|                DTW|    1145| 2.615714285714285|\n",
            "|           BWI|                CHS|     472|1.2835964912280706|\n",
            "|           EWR|                SAN|    2425| 5.537037037037037|\n",
            "|           CMH|                DEN|    1154|2.9097849462365577|\n",
            "|           DEN|                MEM|     872|1.8197399527186764|\n",
            "|           ECP|                ATL|     240|0.7115869017632247|\n",
            "|           SAN|                MCO|    2149|             4.125|\n",
            "|           DEN|                GTF|     624| 1.605361305361305|\n",
            "|           ATL|                BMI|     533|1.3697855750487327|\n",
            "|           LGA|                MSY|    1183| 2.982068965517241|\n",
            "|           DEN|                SAF|     303|0.7782456140350877|\n",
            "|           TPA|                PIT|     873| 1.953632478632478|\n",
            "|           ORD|                AVL|     536|1.2270042194092827|\n",
            "|           MDW|                RDU|     632|1.3814414414414418|\n",
            "|           ATL|                BQK|     238|0.6816062176165802|\n",
            "+--------------+-------------------+--------+------------------+\n",
            "only showing top 20 rows\n",
            "\n"
          ],
          "name": "stdout"
        }
      ]
    },
    {
      "cell_type": "code",
      "metadata": {
        "id": "F4TJSFPHGB6k"
      },
      "source": [
        "#to create new view with new column\r\n",
        "df.createOrReplaceTempView('flights')"
      ],
      "execution_count": 260,
      "outputs": []
    },
    {
      "cell_type": "code",
      "metadata": {
        "colab": {
          "base_uri": "https://localhost:8080/"
        },
        "id": "aqBlDoxMHGKn",
        "outputId": "e80be753-b2c3-4e7d-d7f1-c38f31a16ee8"
      },
      "source": [
        "df_hrs = spark.sql('SELECT * FROM flights').show()"
      ],
      "execution_count": 268,
      "outputs": [
        {
          "output_type": "stream",
          "text": [
            "+----+-----+---+-----------+-------+-------------+-----------+--------------+-------------------+-------------------+--------------+---------------+--------+----------+--------------+------------+--------+--------+---------+-------+-----------------+------------+-------------+--------+---------+-------------------+----------------+--------------+-------------+-------------------+-------------+------------------+\n",
            "|YEAR|MONTH|DAY|DAY_OF_WEEK|AIRLINE|FLIGHT_NUMBER|TAIL_NUMBER|ORIGIN_AIRPORT|DESTINATION_AIRPORT|SCHEDULED_DEPARTURE|DEPARTURE_TIME|DEPARTURE_DELAY|TAXI_OUT|WHEELS_OFF|SCHEDULED_TIME|ELAPSED_TIME|AIR_TIME|DISTANCE|WHEELS_ON|TAXI_IN|SCHEDULED_ARRIVAL|ARRIVAL_TIME|ARRIVAL_DELAY|DIVERTED|CANCELLED|CANCELLATION_REASON|AIR_SYSTEM_DELAY|SECURITY_DELAY|AIRLINE_DELAY|LATE_AIRCRAFT_DELAY|WEATHER_DELAY|       AirTime_Hrs|\n",
            "+----+-----+---+-----------+-------+-------------+-----------+--------------+-------------------+-------------------+--------------+---------------+--------+----------+--------------+------------+--------+--------+---------+-------+-----------------+------------+-------------+--------+---------+-------------------+----------------+--------------+-------------+-------------------+-------------+------------------+\n",
            "|2015|    1|  1|          4|     AS|           98|     N407AS|           ANC|                SEA|                  5|          2354|            -11|      21|        15|           205|         194|     169|    1448|      404|      4|              430|         408|          -22|       0|        0|               null|            null|          null|         null|               null|         null|2.8166666666666664|\n",
            "|2015|    1|  1|          4|     AA|         2336|     N3KUAA|           LAX|                PBI|                 10|             2|             -8|      12|        14|           280|         279|     263|    2330|      737|      4|              750|         741|           -9|       0|        0|               null|            null|          null|         null|               null|         null| 4.383333333333333|\n",
            "|2015|    1|  1|          4|     US|          840|     N171US|           SFO|                CLT|                 20|            18|             -2|      16|        34|           286|         293|     266|    2296|      800|     11|              806|         811|            5|       0|        0|               null|            null|          null|         null|               null|         null| 4.433333333333334|\n",
            "|2015|    1|  1|          4|     AA|          258|     N3HYAA|           LAX|                MIA|                 20|            15|             -5|      15|        30|           285|         281|     258|    2342|      748|      8|              805|         756|           -9|       0|        0|               null|            null|          null|         null|               null|         null|               4.3|\n",
            "|2015|    1|  1|          4|     AS|          135|     N527AS|           SEA|                ANC|                 25|            24|             -1|      11|        35|           235|         215|     199|    1448|      254|      5|              320|         259|          -21|       0|        0|               null|            null|          null|         null|               null|         null|3.3166666666666664|\n",
            "|2015|    1|  1|          4|     DL|          806|     N3730B|           SFO|                MSP|                 25|            20|             -5|      18|        38|           217|         230|     206|    1589|      604|      6|              602|         610|            8|       0|        0|               null|            null|          null|         null|               null|         null| 3.433333333333333|\n",
            "|2015|    1|  1|          4|     NK|          612|     N635NK|           LAS|                MSP|                 25|            19|             -6|      11|        30|           181|         170|     154|    1299|      504|      5|              526|         509|          -17|       0|        0|               null|            null|          null|         null|               null|         null|2.5666666666666664|\n",
            "|2015|    1|  1|          4|     US|         2013|     N584UW|           LAX|                CLT|                 30|            44|             14|      13|        57|           273|         249|     228|    2125|      745|      8|              803|         753|          -10|       0|        0|               null|            null|          null|         null|               null|         null|               3.8|\n",
            "|2015|    1|  1|          4|     AA|         1112|     N3LAAA|           SFO|                DFW|                 30|            19|            -11|      17|        36|           195|         193|     173|    1464|      529|      3|              545|         532|          -13|       0|        0|               null|            null|          null|         null|               null|         null|2.8833333333333333|\n",
            "|2015|    1|  1|          4|     DL|         1173|     N826DN|           LAS|                ATL|                 30|            33|              3|      12|        45|           221|         203|     186|    1747|      651|      5|              711|         656|          -15|       0|        0|               null|            null|          null|         null|               null|         null|               3.1|\n",
            "|2015|    1|  1|          4|     DL|         2336|     N958DN|           DEN|                ATL|                 30|            24|             -6|      12|        36|           173|         149|     133|    1199|      449|      4|              523|         453|          -30|       0|        0|               null|            null|          null|         null|               null|         null| 2.216666666666667|\n",
            "|2015|    1|  1|          4|     AA|         1674|     N853AA|           LAS|                MIA|                 35|            27|             -8|      21|        48|           268|         266|     238|    2174|      746|      7|              803|         753|          -10|       0|        0|               null|            null|          null|         null|               null|         null| 3.966666666666667|\n",
            "|2015|    1|  1|          4|     DL|         1434|     N547US|           LAX|                MSP|                 35|            35|              0|      18|        53|           214|         210|     188|    1535|      601|      4|              609|         605|           -4|       0|        0|               null|            null|          null|         null|               null|         null|3.1333333333333333|\n",
            "|2015|    1|  1|          4|     DL|         2324|     N3751B|           SLC|                ATL|                 40|            34|             -6|      18|        52|           215|         199|     176|    1590|      548|      5|              615|         553|          -22|       0|        0|               null|            null|          null|         null|               null|         null| 2.933333333333333|\n",
            "|2015|    1|  1|          4|     DL|         2440|     N651DL|           SEA|                MSP|                 40|            39|             -1|      28|       107|           189|         198|     166|    1399|      553|      4|              549|         557|            8|       0|        0|               null|            null|          null|         null|               null|         null|2.7666666666666666|\n",
            "|2015|    1|  1|          4|     AS|          108|     N309AS|           ANC|                SEA|                 45|            41|             -4|      17|        58|           204|         194|     173|    1448|      451|      4|              509|         455|          -14|       0|        0|               null|            null|          null|         null|               null|         null|2.8833333333333333|\n",
            "|2015|    1|  1|          4|     DL|         1560|     N3743H|           ANC|                SEA|                 45|            31|            -14|      25|        56|           210|         200|     171|    1448|      447|      4|              515|         451|          -24|       0|        0|               null|            null|          null|         null|               null|         null|              2.85|\n",
            "|2015|    1|  1|          4|     UA|         1197|     N78448|           SFO|                IAH|                 48|            42|             -6|      11|        53|           218|         217|     199|    1635|      612|      7|              626|         619|           -7|       0|        0|               null|            null|          null|         null|               null|         null|3.3166666666666664|\n",
            "|2015|    1|  1|          4|     AS|          122|     N413AS|           ANC|                PDX|                 50|            46|             -4|      11|        57|           215|         201|     187|    1542|      504|      3|              525|         507|          -18|       0|        0|               null|            null|          null|         null|               null|         null|3.1166666666666667|\n",
            "|2015|    1|  1|          4|     DL|         1670|     N806DN|           PDX|                MSP|                 50|            45|             -5|       9|        54|           193|         186|     171|    1426|      545|      6|              603|         551|          -12|       0|        0|               null|            null|          null|         null|               null|         null|              2.85|\n",
            "+----+-----+---+-----------+-------+-------------+-----------+--------------+-------------------+-------------------+--------------+---------------+--------+----------+--------------+------------+--------+--------+---------+-------+-----------------+------------+-------------+--------+---------+-------------------+----------------+--------------+-------------+-------------------+-------------+------------------+\n",
            "only showing top 20 rows\n",
            "\n"
          ],
          "name": "stdout"
        }
      ]
    },
    {
      "cell_type": "code",
      "metadata": {
        "colab": {
          "base_uri": "https://localhost:8080/"
        },
        "id": "lZxUT2tjFkKq",
        "outputId": "2ebb4d81-cbe5-4c2a-e782-af0c5309db82"
      },
      "source": [
        "#SPARK SQL\r\n",
        "df_hrs = spark.sql('SELECT ORIGIN_AIRPORT, DESTINATION_AIRPORT, DISTANCE, round(avg(AirTime_Hrs), 2)  AS Hours FROM flights GROUP BY ORIGIN_AIRPORT, DESTINATION_AIRPORT, DISTANCE ORDER BY Hours DESC').show()"
      ],
      "execution_count": 269,
      "outputs": [
        {
          "output_type": "stream",
          "text": [
            "+--------------+-------------------+--------+-----+\n",
            "|ORIGIN_AIRPORT|DESTINATION_AIRPORT|DISTANCE|Hours|\n",
            "+--------------+-------------------+--------+-----+\n",
            "|           JFK|                HNL|    4983|10.82|\n",
            "|           EWR|                HNL|    4962|10.55|\n",
            "|           IAD|                HNL|    4817| 10.2|\n",
            "|           ATL|                HNL|    4502| 9.58|\n",
            "|           HNL|                JFK|    4983| 8.91|\n",
            "|           HNL|                EWR|    4962| 8.83|\n",
            "|           ORD|                HNL|    4243| 8.75|\n",
            "|           ORD|                OGG|    4184|  8.7|\n",
            "|           HNL|                IAD|    4817| 8.48|\n",
            "|           DFW|                HNL|    3784| 8.19|\n",
            "|           IAH|                HNL|    3904| 8.09|\n",
            "|           DFW|                OGG|    3711| 8.02|\n",
            "|           HNL|                ATL|    4502| 7.96|\n",
            "|           HNL|                ORD|    4243| 7.44|\n",
            "|           HNL|                GUM|    3801| 7.42|\n",
            "|           DEN|                LIH|    3414| 7.39|\n",
            "|           OGG|                ORD|    4184| 7.34|\n",
            "|           DEN|                KOA|    3329| 7.24|\n",
            "|           DEN|                OGG|    3302| 7.18|\n",
            "|           DEN|                HNL|    3365| 6.95|\n",
            "+--------------+-------------------+--------+-----+\n",
            "only showing top 20 rows\n",
            "\n"
          ],
          "name": "stdout"
        }
      ]
    },
    {
      "cell_type": "markdown",
      "metadata": {
        "id": "sC1l7BSLzczN"
      },
      "source": [
        "### 10- What was the average speed (km/h) for each flight?"
      ]
    },
    {
      "cell_type": "code",
      "metadata": {
        "id": "NwyRh-rCzczN"
      },
      "source": [
        "df_speed = df.withColumn('Speed', df.DISTANCE/df.AIR_TIME)"
      ],
      "execution_count": 303,
      "outputs": []
    },
    {
      "cell_type": "code",
      "metadata": {
        "colab": {
          "base_uri": "https://localhost:8080/"
        },
        "id": "CIDF8oCdNS1a",
        "outputId": "c76687f5-9cea-45c9-e06a-f4cfa0b84398"
      },
      "source": [
        "df_speed.show()"
      ],
      "execution_count": 304,
      "outputs": [
        {
          "output_type": "stream",
          "text": [
            "+----+-----+---+-----------+-------+-------------+-----------+--------------+-------------------+-------------------+--------------+---------------+--------+----------+--------------+------------+--------+--------+---------+-------+-----------------+------------+-------------+--------+---------+-------------------+----------------+--------------+-------------+-------------------+-------------+-----------------+\n",
            "|YEAR|MONTH|DAY|DAY_OF_WEEK|AIRLINE|FLIGHT_NUMBER|TAIL_NUMBER|ORIGIN_AIRPORT|DESTINATION_AIRPORT|SCHEDULED_DEPARTURE|DEPARTURE_TIME|DEPARTURE_DELAY|TAXI_OUT|WHEELS_OFF|SCHEDULED_TIME|ELAPSED_TIME|AIR_TIME|DISTANCE|WHEELS_ON|TAXI_IN|SCHEDULED_ARRIVAL|ARRIVAL_TIME|ARRIVAL_DELAY|DIVERTED|CANCELLED|CANCELLATION_REASON|AIR_SYSTEM_DELAY|SECURITY_DELAY|AIRLINE_DELAY|LATE_AIRCRAFT_DELAY|WEATHER_DELAY|            Speed|\n",
            "+----+-----+---+-----------+-------+-------------+-----------+--------------+-------------------+-------------------+--------------+---------------+--------+----------+--------------+------------+--------+--------+---------+-------+-----------------+------------+-------------+--------+---------+-------------------+----------------+--------------+-------------+-------------------+-------------+-----------------+\n",
            "|2015|    1|  1|          4|     AS|           98|     N407AS|           ANC|                SEA|                  5|          2354|            -11|      21|        15|           205|         194|     169|    1448|      404|      4|              430|         408|          -22|       0|        0|               null|            null|          null|         null|               null|         null|8.568047337278106|\n",
            "|2015|    1|  1|          4|     AA|         2336|     N3KUAA|           LAX|                PBI|                 10|             2|             -8|      12|        14|           280|         279|     263|    2330|      737|      4|              750|         741|           -9|       0|        0|               null|            null|          null|         null|               null|         null|8.859315589353612|\n",
            "|2015|    1|  1|          4|     US|          840|     N171US|           SFO|                CLT|                 20|            18|             -2|      16|        34|           286|         293|     266|    2296|      800|     11|              806|         811|            5|       0|        0|               null|            null|          null|         null|               null|         null|8.631578947368421|\n",
            "|2015|    1|  1|          4|     AA|          258|     N3HYAA|           LAX|                MIA|                 20|            15|             -5|      15|        30|           285|         281|     258|    2342|      748|      8|              805|         756|           -9|       0|        0|               null|            null|          null|         null|               null|         null|9.077519379844961|\n",
            "|2015|    1|  1|          4|     AS|          135|     N527AS|           SEA|                ANC|                 25|            24|             -1|      11|        35|           235|         215|     199|    1448|      254|      5|              320|         259|          -21|       0|        0|               null|            null|          null|         null|               null|         null|7.276381909547739|\n",
            "|2015|    1|  1|          4|     DL|          806|     N3730B|           SFO|                MSP|                 25|            20|             -5|      18|        38|           217|         230|     206|    1589|      604|      6|              602|         610|            8|       0|        0|               null|            null|          null|         null|               null|         null|7.713592233009709|\n",
            "|2015|    1|  1|          4|     NK|          612|     N635NK|           LAS|                MSP|                 25|            19|             -6|      11|        30|           181|         170|     154|    1299|      504|      5|              526|         509|          -17|       0|        0|               null|            null|          null|         null|               null|         null|8.435064935064934|\n",
            "|2015|    1|  1|          4|     US|         2013|     N584UW|           LAX|                CLT|                 30|            44|             14|      13|        57|           273|         249|     228|    2125|      745|      8|              803|         753|          -10|       0|        0|               null|            null|          null|         null|               null|         null|9.320175438596491|\n",
            "|2015|    1|  1|          4|     AA|         1112|     N3LAAA|           SFO|                DFW|                 30|            19|            -11|      17|        36|           195|         193|     173|    1464|      529|      3|              545|         532|          -13|       0|        0|               null|            null|          null|         null|               null|         null| 8.46242774566474|\n",
            "|2015|    1|  1|          4|     DL|         1173|     N826DN|           LAS|                ATL|                 30|            33|              3|      12|        45|           221|         203|     186|    1747|      651|      5|              711|         656|          -15|       0|        0|               null|            null|          null|         null|               null|         null| 9.39247311827957|\n",
            "|2015|    1|  1|          4|     DL|         2336|     N958DN|           DEN|                ATL|                 30|            24|             -6|      12|        36|           173|         149|     133|    1199|      449|      4|              523|         453|          -30|       0|        0|               null|            null|          null|         null|               null|         null|9.015037593984962|\n",
            "|2015|    1|  1|          4|     AA|         1674|     N853AA|           LAS|                MIA|                 35|            27|             -8|      21|        48|           268|         266|     238|    2174|      746|      7|              803|         753|          -10|       0|        0|               null|            null|          null|         null|               null|         null|9.134453781512605|\n",
            "|2015|    1|  1|          4|     DL|         1434|     N547US|           LAX|                MSP|                 35|            35|              0|      18|        53|           214|         210|     188|    1535|      601|      4|              609|         605|           -4|       0|        0|               null|            null|          null|         null|               null|         null|8.164893617021276|\n",
            "|2015|    1|  1|          4|     DL|         2324|     N3751B|           SLC|                ATL|                 40|            34|             -6|      18|        52|           215|         199|     176|    1590|      548|      5|              615|         553|          -22|       0|        0|               null|            null|          null|         null|               null|         null|9.034090909090908|\n",
            "|2015|    1|  1|          4|     DL|         2440|     N651DL|           SEA|                MSP|                 40|            39|             -1|      28|       107|           189|         198|     166|    1399|      553|      4|              549|         557|            8|       0|        0|               null|            null|          null|         null|               null|         null|8.427710843373495|\n",
            "|2015|    1|  1|          4|     AS|          108|     N309AS|           ANC|                SEA|                 45|            41|             -4|      17|        58|           204|         194|     173|    1448|      451|      4|              509|         455|          -14|       0|        0|               null|            null|          null|         null|               null|         null|8.369942196531792|\n",
            "|2015|    1|  1|          4|     DL|         1560|     N3743H|           ANC|                SEA|                 45|            31|            -14|      25|        56|           210|         200|     171|    1448|      447|      4|              515|         451|          -24|       0|        0|               null|            null|          null|         null|               null|         null|8.467836257309942|\n",
            "|2015|    1|  1|          4|     UA|         1197|     N78448|           SFO|                IAH|                 48|            42|             -6|      11|        53|           218|         217|     199|    1635|      612|      7|              626|         619|           -7|       0|        0|               null|            null|          null|         null|               null|         null| 8.21608040201005|\n",
            "|2015|    1|  1|          4|     AS|          122|     N413AS|           ANC|                PDX|                 50|            46|             -4|      11|        57|           215|         201|     187|    1542|      504|      3|              525|         507|          -18|       0|        0|               null|            null|          null|         null|               null|         null|8.245989304812834|\n",
            "|2015|    1|  1|          4|     DL|         1670|     N806DN|           PDX|                MSP|                 50|            45|             -5|       9|        54|           193|         186|     171|    1426|      545|      6|              603|         551|          -12|       0|        0|               null|            null|          null|         null|               null|         null|8.339181286549708|\n",
            "+----+-----+---+-----------+-------+-------------+-----------+--------------+-------------------+-------------------+--------------+---------------+--------+----------+--------------+------------+--------+--------+---------+-------+-----------------+------------+-------------+--------+---------+-------------------+----------------+--------------+-------------+-------------------+-------------+-----------------+\n",
            "only showing top 20 rows\n",
            "\n"
          ],
          "name": "stdout"
        }
      ]
    },
    {
      "cell_type": "code",
      "metadata": {
        "id": "00UAT185JXL1",
        "colab": {
          "base_uri": "https://localhost:8080/"
        },
        "outputId": "e2fee504-00e7-4f79-df97-12b8a61c725d"
      },
      "source": [
        "df_speed.columns"
      ],
      "execution_count": 305,
      "outputs": [
        {
          "output_type": "execute_result",
          "data": {
            "text/plain": [
              "['YEAR',\n",
              " 'MONTH',\n",
              " 'DAY',\n",
              " 'DAY_OF_WEEK',\n",
              " 'AIRLINE',\n",
              " 'FLIGHT_NUMBER',\n",
              " 'TAIL_NUMBER',\n",
              " 'ORIGIN_AIRPORT',\n",
              " 'DESTINATION_AIRPORT',\n",
              " 'SCHEDULED_DEPARTURE',\n",
              " 'DEPARTURE_TIME',\n",
              " 'DEPARTURE_DELAY',\n",
              " 'TAXI_OUT',\n",
              " 'WHEELS_OFF',\n",
              " 'SCHEDULED_TIME',\n",
              " 'ELAPSED_TIME',\n",
              " 'AIR_TIME',\n",
              " 'DISTANCE',\n",
              " 'WHEELS_ON',\n",
              " 'TAXI_IN',\n",
              " 'SCHEDULED_ARRIVAL',\n",
              " 'ARRIVAL_TIME',\n",
              " 'ARRIVAL_DELAY',\n",
              " 'DIVERTED',\n",
              " 'CANCELLED',\n",
              " 'CANCELLATION_REASON',\n",
              " 'AIR_SYSTEM_DELAY',\n",
              " 'SECURITY_DELAY',\n",
              " 'AIRLINE_DELAY',\n",
              " 'LATE_AIRCRAFT_DELAY',\n",
              " 'WEATHER_DELAY',\n",
              " 'Speed']"
            ]
          },
          "metadata": {
            "tags": []
          },
          "execution_count": 305
        }
      ]
    },
    {
      "cell_type": "code",
      "metadata": {
        "colab": {
          "base_uri": "https://localhost:8080/"
        },
        "id": "QN3hARybO988",
        "outputId": "7ba70b10-e6b9-4b30-e3bf-70b76c9e76a3"
      },
      "source": [
        "df_speed.printSchema()"
      ],
      "execution_count": 312,
      "outputs": [
        {
          "output_type": "stream",
          "text": [
            "root\n",
            " |-- YEAR: integer (nullable = true)\n",
            " |-- MONTH: integer (nullable = true)\n",
            " |-- DAY: integer (nullable = true)\n",
            " |-- DAY_OF_WEEK: integer (nullable = true)\n",
            " |-- AIRLINE: string (nullable = true)\n",
            " |-- FLIGHT_NUMBER: integer (nullable = true)\n",
            " |-- TAIL_NUMBER: string (nullable = true)\n",
            " |-- ORIGIN_AIRPORT: string (nullable = true)\n",
            " |-- DESTINATION_AIRPORT: string (nullable = true)\n",
            " |-- SCHEDULED_DEPARTURE: integer (nullable = true)\n",
            " |-- DEPARTURE_TIME: integer (nullable = true)\n",
            " |-- DEPARTURE_DELAY: integer (nullable = true)\n",
            " |-- TAXI_OUT: integer (nullable = true)\n",
            " |-- WHEELS_OFF: integer (nullable = true)\n",
            " |-- SCHEDULED_TIME: integer (nullable = true)\n",
            " |-- ELAPSED_TIME: integer (nullable = true)\n",
            " |-- AIR_TIME: integer (nullable = true)\n",
            " |-- DISTANCE: integer (nullable = true)\n",
            " |-- WHEELS_ON: integer (nullable = true)\n",
            " |-- TAXI_IN: integer (nullable = true)\n",
            " |-- SCHEDULED_ARRIVAL: integer (nullable = true)\n",
            " |-- ARRIVAL_TIME: integer (nullable = true)\n",
            " |-- ARRIVAL_DELAY: integer (nullable = true)\n",
            " |-- DIVERTED: integer (nullable = true)\n",
            " |-- CANCELLED: integer (nullable = true)\n",
            " |-- CANCELLATION_REASON: string (nullable = true)\n",
            " |-- AIR_SYSTEM_DELAY: integer (nullable = true)\n",
            " |-- SECURITY_DELAY: integer (nullable = true)\n",
            " |-- AIRLINE_DELAY: integer (nullable = true)\n",
            " |-- LATE_AIRCRAFT_DELAY: integer (nullable = true)\n",
            " |-- WEATHER_DELAY: integer (nullable = true)\n",
            " |-- Speed: double (nullable = true)\n",
            "\n"
          ],
          "name": "stdout"
        }
      ]
    },
    {
      "cell_type": "code",
      "metadata": {
        "colab": {
          "base_uri": "https://localhost:8080/"
        },
        "id": "4mqpXUj-MzI2",
        "outputId": "0cdb7cfc-e24c-4e37-ce2c-95df2fb4b2c1"
      },
      "source": [
        "#DataFrame API\r\n",
        "df_avgspeed = df_speed.groupBy('TAIL_NUMBER', 'Speed').avg('Speed').show()"
      ],
      "execution_count": 307,
      "outputs": [
        {
          "output_type": "stream",
          "text": [
            "+-----------+-----------------+-----------------+\n",
            "|TAIL_NUMBER|            Speed|       avg(Speed)|\n",
            "+-----------+-----------------+-----------------+\n",
            "|     N3JYAA|7.258278145695364|7.258278145695364|\n",
            "|     N477HA|5.666666666666667|5.666666666666667|\n",
            "|     N57864| 7.71608832807571| 7.71608832807571|\n",
            "|     N508AS|7.376470588235295|7.376470588235295|\n",
            "|     N835UA|6.548387096774194|6.548387096774194|\n",
            "|     N816SK|7.098360655737705|7.098360655737705|\n",
            "|     N523AS|7.100609756097561|7.100609756097561|\n",
            "|     N526NK|5.051282051282051|5.051282051282051|\n",
            "|     N452WN|         6.203125|         6.203125|\n",
            "|     N8616C|7.785714285714286|7.785714285714286|\n",
            "|     N8311Q|6.543478260869565|6.543478260869565|\n",
            "|     N449SW|5.953846153846154|5.953846153846154|\n",
            "|     N17115|8.904347826086957|8.904347826086957|\n",
            "|     N625SW|7.283464566929134|7.283464566929134|\n",
            "|     N203FR|8.146788990825687|8.146788990825687|\n",
            "|     N759GS|              5.0|              5.0|\n",
            "|     N494CA|6.632911392405063|6.632911392405063|\n",
            "|     N903DE|6.364341085271318|6.364341085271318|\n",
            "|     N3CJAA|6.585635359116022|6.585635359116022|\n",
            "|     N538UW|7.157894736842105|7.157894736842105|\n",
            "+-----------+-----------------+-----------------+\n",
            "only showing top 20 rows\n",
            "\n"
          ],
          "name": "stdout"
        }
      ]
    },
    {
      "cell_type": "code",
      "metadata": {
        "id": "9zBn3AcMOgyb"
      },
      "source": [
        "#to create temp. view\r\n",
        "df_speed.createOrReplaceTempView('speeds')"
      ],
      "execution_count": 318,
      "outputs": []
    },
    {
      "cell_type": "code",
      "metadata": {
        "colab": {
          "base_uri": "https://localhost:8080/"
        },
        "id": "3dkEF6cgPMlL",
        "outputId": "0d6d9c82-a12b-4207-c28c-8b231cb90dcb"
      },
      "source": [
        "spark.sql('SELECT TAIL_NUMBER, round(avg(Speed), 2) AS Average_Speed FROM speeds GROUP BY TAIL_NUMBER ORDER BY Average_Speed DESC').show()"
      ],
      "execution_count": 322,
      "outputs": [
        {
          "output_type": "stream",
          "text": [
            "+-----------+-------------+\n",
            "|TAIL_NUMBER|Average_Speed|\n",
            "+-----------+-------------+\n",
            "|     N78001|         9.52|\n",
            "|     N222UA|          9.3|\n",
            "|     N845MH|         9.27|\n",
            "|     N177UA|         9.23|\n",
            "|     N777UA|         9.07|\n",
            "|     N7ADAA|         9.06|\n",
            "|     N7ATAA|         9.04|\n",
            "|     N173DZ|         9.03|\n",
            "|     N116UA|         9.02|\n",
            "|     N7ANAA|          9.0|\n",
            "|     N812NW|         8.82|\n",
            "|     N818NW|         8.82|\n",
            "|     N74007|         8.81|\n",
            "|     N7BCAA|          8.8|\n",
            "|     N772UA|         8.79|\n",
            "|     N214UA|         8.77|\n",
            "|     N69020|         8.76|\n",
            "|     N768UA|         8.76|\n",
            "|     N213UA|         8.75|\n",
            "|     N211UA|         8.75|\n",
            "+-----------+-------------+\n",
            "only showing top 20 rows\n",
            "\n"
          ],
          "name": "stdout"
        }
      ]
    }
  ]
}